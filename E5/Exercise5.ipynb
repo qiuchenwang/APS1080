{
  "nbformat": 4,
  "nbformat_minor": 0,
  "metadata": {
    "colab": {
      "name": "Exercise5.ipynb",
      "provenance": []
    },
    "kernelspec": {
      "name": "python3",
      "display_name": "Python 3"
    },
    "language_info": {
      "name": "python"
    }
  },
  "cells": [
    {
      "cell_type": "markdown",
      "source": [
        "#Exercise 5"
      ],
      "metadata": {
        "id": "3R9ADyVGb11P"
      }
    },
    {
      "cell_type": "markdown",
      "source": [
        "> Utilize the REINFORCE algorithm of C13 to sole the cart-pole environment.\n",
        ">\n",
        "> This is an exercise, however, I highly recommend it be done with the diligence of an assignment to ensure you're prepared for the test."
      ],
      "metadata": {
        "id": "Z0zHo_RybpdU"
      }
    },
    {
      "cell_type": "code",
      "execution_count": 1,
      "metadata": {
        "id": "HBzavIgybmPv"
      },
      "outputs": [],
      "source": [
        "import gym\n",
        "import numpy as np\n",
        "from collections import deque\n",
        "import matplotlib.pyplot as plt\n",
        "plt.rcParams['figure.figsize'] = (16, 10)\n",
        "\n",
        "import torch\n",
        "import torch.nn as nn\n",
        "import torch.nn.functional as F\n",
        "import torch.optim as optim\n",
        "from torch.distributions import Categorical\n",
        "torch.manual_seed(0)"
      ]
    },
    {
      "cell_type": "code",
      "source": [
        "device = torch.device(\"cuda:0\" if torch.cuda.is_available() else \"cpu\")\n",
        "device"
      ],
      "metadata": {
        "colab": {
          "base_uri": "https://localhost:8080/"
        },
        "id": "-Lzxvo5SICV7",
        "outputId": "b8da5cc6-af87-4906-ac1a-0aecd11bad25"
      },
      "execution_count": 2,
      "outputs": [
        {
          "output_type": "execute_result",
          "data": {
            "text/plain": [
              "device(type='cpu')"
            ]
          },
          "metadata": {},
          "execution_count": 2
        }
      ]
    },
    {
      "cell_type": "code",
      "source": [
        "env = gym.make('CartPole-v0')\n",
        "env.seed(0)\n",
        "\n",
        "print('observation space:', env.observation_space)\n",
        "print('action space:', env.action_space)"
      ],
      "metadata": {
        "colab": {
          "base_uri": "https://localhost:8080/"
        },
        "id": "msSVIqfNIH46",
        "outputId": "04495ba0-dbdd-49e4-b651-a1bb5239a6d8"
      },
      "execution_count": 17,
      "outputs": [
        {
          "output_type": "stream",
          "name": "stdout",
          "text": [
            "observation space: Box(-3.4028234663852886e+38, 3.4028234663852886e+38, (4,), float32)\n",
            "action space: Discrete(2)\n"
          ]
        }
      ]
    },
    {
      "cell_type": "markdown",
      "source": [
        "## Build Neural Network"
      ],
      "metadata": {
        "id": "Z6N6Kw6iKy-a"
      }
    },
    {
      "cell_type": "code",
      "source": [
        "class Policy(nn.Module):\n",
        "    def __init__(self, state_size=4, action_size=2, hidden_size=32):\n",
        "        super(Policy, self).__init__()\n",
        "        self.fc1 = nn.Linear(state_size, hidden_size)\n",
        "        self.fc2 = nn.Linear(hidden_size, action_size)\n",
        "        \n",
        "    def forward(self, state):\n",
        "        x = F.relu(self.fc1(state))\n",
        "        x = self.fc2(x)\n",
        "        return F.softmax(x, dim=1)\n",
        "    \n",
        "    def act(self, state):\n",
        "        state = torch.from_numpy(state).float().unsqueeze(0).to(device)\n",
        "        probs = self.forward(state).cpu()\n",
        "        model = Categorical(probs)\n",
        "        action = model.sample()\n",
        "        return action.item(), model.log_prob(action)"
      ],
      "metadata": {
        "id": "uICayzanIMkP"
      },
      "execution_count": 4,
      "outputs": []
    },
    {
      "cell_type": "code",
      "source": [
        "def reinforce(policy, optimizer, n_episodes=1000, max_t=1000, gamma=1.0, print_every=100):\n",
        "    scores_deque = deque(maxlen=100)\n",
        "    scores = []\n",
        "    for e in range(1, n_episodes):\n",
        "        saved_log_probs = []\n",
        "        rewards = []\n",
        "        state = env.reset()\n",
        "        # Collect trajectory\n",
        "        for t in range(max_t):\n",
        "            # Sample the action from current policy\n",
        "            action, log_prob = policy.act(state)\n",
        "            saved_log_probs.append(log_prob)\n",
        "            state, reward, done, _ = env.step(action)\n",
        "            rewards.append(reward)\n",
        "            if done:\n",
        "                break\n",
        "        # Calculate total expected reward\n",
        "        scores_deque.append(sum(rewards))\n",
        "        scores.append(sum(rewards))\n",
        "        \n",
        "        # Recalculate the total reward applying discounted factor\n",
        "        discounts = [gamma ** i for i in range(len(rewards) + 1)]\n",
        "        R = sum([a * b for a,b in zip(discounts, rewards)])\n",
        "        \n",
        "        # Calculate the loss \n",
        "        policy_loss = []\n",
        "        for log_prob in saved_log_probs:\n",
        "            # Note that we are using Gradient Ascent, not Descent. So we need to calculate it with negative rewards.\n",
        "            policy_loss.append(-log_prob * R)\n",
        "        # After that, we concatenate whole policy loss in 0th dimension\n",
        "        policy_loss = torch.cat(policy_loss).sum()\n",
        "        \n",
        "        # Backpropagation\n",
        "        optimizer.zero_grad()\n",
        "        policy_loss.backward()\n",
        "        optimizer.step()\n",
        "        \n",
        "        if e % print_every == 0:\n",
        "            print('Episode {}\\tAverage Score: {:.2f}'.format(e, np.mean(scores_deque)))\n",
        "        if np.mean(scores_deque) >= 195.0:\n",
        "            print('Environment solved in {:d} episodes!\\tAverage Score: {:.2f}'.format(e - 100, np.mean(scores_deque)))\n",
        "            break\n",
        "    return scores"
      ],
      "metadata": {
        "id": "IdIhng-DIRR8"
      },
      "execution_count": 5,
      "outputs": []
    },
    {
      "cell_type": "markdown",
      "source": [
        "## Training"
      ],
      "metadata": {
        "id": "iIzz6677K4dh"
      }
    },
    {
      "cell_type": "code",
      "source": [
        "policy = Policy().to(device)\n",
        "optimizer = optim.Adam(policy.parameters(), lr=1e-2)\n",
        "scores = reinforce(policy, optimizer, n_episodes=2000)"
      ],
      "metadata": {
        "colab": {
          "base_uri": "https://localhost:8080/"
        },
        "id": "WX8AidxvIWBL",
        "outputId": "76b931c9-82a3-4d80-bab3-1eb1fcd12b4d"
      },
      "execution_count": 6,
      "outputs": [
        {
          "output_type": "stream",
          "name": "stdout",
          "text": [
            "Episode 100\tAverage Score: 20.22\n",
            "Episode 200\tAverage Score: 41.21\n",
            "Episode 300\tAverage Score: 85.37\n",
            "Episode 400\tAverage Score: 91.89\n",
            "Episode 500\tAverage Score: 143.20\n",
            "Episode 600\tAverage Score: 125.37\n",
            "Episode 700\tAverage Score: 122.81\n",
            "Episode 800\tAverage Score: 103.71\n",
            "Episode 900\tAverage Score: 160.88\n",
            "Episode 1000\tAverage Score: 126.33\n",
            "Episode 1100\tAverage Score: 111.43\n",
            "Environment solved in 1070 episodes!\tAverage Score: 195.44\n"
          ]
        }
      ]
    },
    {
      "cell_type": "code",
      "source": [
        "fig = plt.figure()\n",
        "ax = fig.add_subplot(111)\n",
        "plt.plot(np.arange(1, len(scores)+1), scores)\n",
        "plt.ylabel('Score')\n",
        "plt.xlabel('Episode #')\n",
        "plt.show()"
      ],
      "metadata": {
        "colab": {
          "base_uri": "https://localhost:8080/",
          "height": 279
        },
        "id": "dHzehzhlIhUv",
        "outputId": "85a684b0-b097-4f98-d4dd-2f1361a64406"
      },
      "execution_count": 7,
      "outputs": [
        {
          "output_type": "display_data",
          "data": {
            "image/png": "[encoded data removed]",
            "text/plain": [
              "<Figure size 432x288 with 1 Axes>"
            ]
          },
          "metadata": {
            "needs_background": "light"
          }
        }
      ]
    },
    {
      "cell_type": "markdown",
      "source": [
        "## Test"
      ],
      "metadata": {
        "id": "fI9hCz9sKbsw"
      }
    },
    {
      "cell_type": "code",
      "source": [
        "def show_test_results(policy, env_name):\n",
        "    env = gym.make(env_name)\n",
        "    for episode in range(10):\n",
        "        state = env.reset()\n",
        "        done = False\n",
        "        for t in range(1000):\n",
        "            action, _ = policy.act(state)\n",
        "            next_state, reward, done, _ = env.step(action)\n",
        "            state = next_state\n",
        "            if done:\n",
        "                print(f\"Episode {episode} ends in {t+1} steps\")\n",
        "                break\n",
        "    env.close()"
      ],
      "metadata": {
        "id": "Ccoy4DdKJYg6"
      },
      "execution_count": 13,
      "outputs": []
    },
    {
      "cell_type": "code",
      "source": [
        "show_test_results(policy, 'CartPole-v0')"
      ],
      "metadata": {
        "colab": {
          "base_uri": "https://localhost:8080/"
        },
        "id": "9s28RiZHKEOX",
        "outputId": "edae11b7-7feb-4718-8c1d-5d43c6074191"
      },
      "execution_count": 14,
      "outputs": [
        {
          "output_type": "stream",
          "name": "stdout",
          "text": [
            "Episode 0 ends in 200 steps\n",
            "Episode 1 ends in 200 steps\n",
            "Episode 2 ends in 200 steps\n",
            "Episode 3 ends in 200 steps\n",
            "Episode 4 ends in 200 steps\n",
            "Episode 5 ends in 200 steps\n",
            "Episode 6 ends in 200 steps\n",
            "Episode 7 ends in 200 steps\n",
            "Episode 8 ends in 200 steps\n",
            "Episode 9 ends in 200 steps\n"
          ]
        }
      ]
    }
  ]
}