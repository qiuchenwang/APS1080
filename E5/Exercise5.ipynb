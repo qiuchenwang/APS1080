{
  "nbformat": 4,
  "nbformat_minor": 0,
  "metadata": {
    "colab": {
      "name": "Exercise5.ipynb",
      "provenance": []
    },
    "kernelspec": {
      "name": "python3",
      "display_name": "Python 3"
    },
    "language_info": {
      "name": "python"
    }
  },
  "cells": [
    {
      "cell_type": "markdown",
      "source": [
        "#Exercise 5"
      ],
      "metadata": {
        "id": "3R9ADyVGb11P"
      }
    },
    {
      "cell_type": "markdown",
      "source": [
        "> Utilize the REINFORCE algorithm of c13 to sole the cart-pole environment.\n",
        ">\n",
        "> This is an exercise, however, I highly recommend it be done with the diligence of an assignment to ensure you're prepared for the test."
      ],
      "metadata": {
        "id": "Z0zHo_RybpdU"
      }
    },
    {
      "cell_type": "code",
      "execution_count": null,
      "metadata": {
        "id": "HBzavIgybmPv"
      },
      "outputs": [],
      "source": [
        ""
      ]
    }
  ]
}