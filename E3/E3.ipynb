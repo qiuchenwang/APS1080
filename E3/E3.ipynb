{
  "nbformat": 4,
  "nbformat_minor": 0,
  "metadata": {
    "colab": {
      "name": "E3.ipynb",
      "provenance": []
    },
    "kernelspec": {
      "name": "python3",
      "display_name": "Python 3"
    },
    "language_info": {
      "name": "python"
    }
  },
  "cells": [
    {
      "cell_type": "markdown",
      "metadata": {
        "id": "qyqLQ6MD0wat"
      },
      "source": [
        "# Exercise III: Cart-Pole with TD(0)\n",
        ">Solve the Cart-Pole control problem using TD(0) methods.\n"
      ]
    },
    {
      "cell_type": "markdown",
      "metadata": {
        "id": "fRu3ih2a0042"
      },
      "source": [
        "## a. on-policy SARSA"
      ]
    },
    {
      "cell_type": "code",
      "metadata": {
        "id": "XvlLHmtT0vJR"
      },
      "source": [
        ""
      ],
      "execution_count": null,
      "outputs": []
    },
    {
      "cell_type": "markdown",
      "metadata": {
        "id": "t49pT1jY1KEV"
      },
      "source": [
        "## b. off-policy Q learning"
      ]
    },
    {
      "cell_type": "markdown",
      "metadata": {
        "id": "GdXSvKCg1PXe"
      },
      "source": [
        "## c. off-policy Expected SARSA with an epsilon-greedy policy"
      ]
    }
  ]
}