{
  "nbformat": 4,
  "nbformat_minor": 0,
  "metadata": {
    "colab": {
      "name": "E3.ipynb",
      "provenance": [],
      "collapsed_sections": []
    },
    "kernelspec": {
      "name": "python3",
      "display_name": "Python 3"
    },
    "language_info": {
      "name": "python"
    }
  },
  "cells": [
    {
      "cell_type": "markdown",
      "metadata": {
        "id": "qyqLQ6MD0wat"
      },
      "source": [
        "# Exercise III: Cart-Pole with TD(0)\n",
        ">Solve the Cart-Pole control problem using TD(0) methods.\n"
      ]
    },
    {
      "cell_type": "code",
      "metadata": {
        "id": "Qf5Okpm_19jM"
      },
      "source": [
        "import gym\n",
        "import numpy as np\n",
        "import matplotlib.pyplot as plt\n",
        "import pandas as pd"
      ],
      "execution_count": 109,
      "outputs": []
    },
    {
      "cell_type": "code",
      "metadata": {
        "colab": {
          "base_uri": "https://localhost:8080/"
        },
        "id": "TOFYb0yt131z",
        "outputId": "f44629d9-dc34-4693-f01a-2a4d88dfc758"
      },
      "source": [
        "#Cart-Pole Problem\n",
        "env = gym.make(\"CartPole-v0\")\n",
        "env.reset()\n",
        "\n",
        "for i in range(50000):\n",
        "  action = env.action_space.sample()\n",
        "  print(\"step i\",i,\"action=\",action)\n",
        "  obs, reward, done, info = env.step(action)\n",
        "  print(\"obs=\",obs,\"reward=\",reward,\"done=\",done,\"info=\",info)\n",
        "\n",
        "  if done:\n",
        "    break\n",
        "    \n",
        "env.close()\n",
        "print(\"Iterations that were run:\",i)"
      ],
      "execution_count": 97,
      "outputs": [
        {
          "output_type": "stream",
          "name": "stdout",
          "text": [
            "step i 0 action= 1\n",
            "obs= [ 0.0386119   0.24236468  0.04542033 -0.26135868] reward= 1.0 done= False info= {}\n",
            "step i 1 action= 1\n",
            "obs= [ 0.04345919  0.43680983  0.04019315 -0.53937661] reward= 1.0 done= False info= {}\n",
            "step i 2 action= 0\n",
            "obs= [ 0.05219539  0.24114659  0.02940562 -0.23430518] reward= 1.0 done= False info= {}\n",
            "step i 3 action= 0\n",
            "obs= [0.05701832 0.0456171  0.02471952 0.06750626] reward= 1.0 done= False info= {}\n",
            "step i 4 action= 0\n",
            "obs= [ 0.05793066 -0.14985037  0.02606964  0.36788469] reward= 1.0 done= False info= {}\n",
            "step i 5 action= 1\n",
            "obs= [0.05493366 0.04489163 0.03342734 0.08353455] reward= 1.0 done= False info= {}\n",
            "step i 6 action= 0\n",
            "obs= [ 0.05583149 -0.15069315  0.03509803  0.38657363] reward= 1.0 done= False info= {}\n",
            "step i 7 action= 1\n",
            "obs= [0.05281763 0.04391344 0.0428295  0.10516022] reward= 1.0 done= False info= {}\n",
            "step i 8 action= 0\n",
            "obs= [ 0.0536959  -0.15179528  0.0449327   0.41104212] reward= 1.0 done= False info= {}\n",
            "step i 9 action= 0\n",
            "obs= [ 0.05065999 -0.34752447  0.05315355  0.71754535] reward= 1.0 done= False info= {}\n",
            "step i 10 action= 0\n",
            "obs= [ 0.0437095  -0.54334015  0.06750445  1.02647383] reward= 1.0 done= False info= {}\n",
            "step i 11 action= 0\n",
            "obs= [ 0.0328427  -0.7392927   0.08803393  1.33956445] reward= 1.0 done= False info= {}\n",
            "step i 12 action= 1\n",
            "obs= [ 0.01805684 -0.54538253  0.11482522  1.07567413] reward= 1.0 done= False info= {}\n",
            "step i 13 action= 0\n",
            "obs= [ 0.00714919 -0.74181879  0.1363387   1.40207265] reward= 1.0 done= False info= {}\n",
            "step i 14 action= 0\n",
            "obs= [-0.00768718 -0.93834558  0.16438015  1.73408677] reward= 1.0 done= False info= {}\n",
            "step i 15 action= 1\n",
            "obs= [-0.02645409 -0.74543675  0.19906189  1.49673457] reward= 1.0 done= False info= {}\n",
            "step i 16 action= 0\n",
            "obs= [-0.04136283 -0.94234311  0.22899658  1.84439994] reward= 1.0 done= True info= {}\n",
            "Iterations that were run: 16\n"
          ]
        }
      ]
    },
    {
      "cell_type": "markdown",
      "metadata": {
        "id": "fRu3ih2a0042"
      },
      "source": [
        "## a. on-policy SARSA"
      ]
    },
    {
      "cell_type": "code",
      "metadata": {
        "id": "DdKLv08m1TzA"
      },
      "source": [
        "#discretize the environmental feedback (S)\n",
        "'''\n",
        "  Type: Box(4)\n",
        "  Num     Observation               Min                     Max\n",
        "  0       Cart Position             -4.8                    4.8\n",
        "  1       Cart Velocity             -Inf                    Inf\n",
        "  2       Pole Angle                -0.418 rad (-24 deg)    0.418 rad (24 deg)\n",
        "  3       Pole Angular Velocity     -Inf                    Inf\n",
        "'''\n",
        "\n",
        "def obs2state(obs):\n",
        "    \"\"\"\n",
        "    Discretize observations to states\n",
        "    \"\"\"\n",
        "    digitized = [np.searchsorted(bins, o, \"right\") for o, bins in zip(obs, obs2state.bin_divide)]\n",
        "    return (digitized * obs2state.multiplier).sum()\n",
        "obs2state.bin_divide = (\n",
        "        (-2.30, +0.00, +2.30),\n",
        "        (-1.00, +0.00, +1.00),\n",
        "        (-0.20, +0.00, +0.20),\n",
        "        (-1.00, +0.00, +1.00),\n",
        "        )\n",
        "obs2state.multiplier = np.concatenate([[1], np.cumprod([len(i)+1 for i in obs2state.bin_divide[:-1]])])\n",
        "obs2state.S = np.product([len(i)+1 for i in obs2state.bin_divide])"
      ],
      "execution_count": 98,
      "outputs": []
    },
    {
      "cell_type": "code",
      "metadata": {
        "id": "I-JnIe4Mm-Ab"
      },
      "source": [
        "#epsilon-greedy aglorithm, return an action 0 or 1\n",
        "def choose_action(env, epsilon, state, Q):\n",
        "  if np.random.random() < epsilon:\n",
        "    return env.action_space.sample() \n",
        "  else:\n",
        "    return np.argmax(Q[state])"
      ],
      "execution_count": 99,
      "outputs": []
    },
    {
      "cell_type": "code",
      "metadata": {
        "id": "Kkr-CbMIFSaf"
      },
      "source": [
        "def update(state, state2, reward, action, action2,alpha,gamma):\n",
        "    Q[state, action] += alpha * (reward + gamma * Q[state2, action2] - Q[state, action])"
      ],
      "execution_count": 100,
      "outputs": []
    },
    {
      "cell_type": "code",
      "metadata": {
        "colab": {
          "base_uri": "https://localhost:8080/",
          "height": 295
        },
        "id": "eQA-PYLjBeAY",
        "outputId": "6524dad6-b0f0-491c-a08e-24d0911667d2"
      },
      "source": [
        "#on-policy sarsa\n",
        "gamma = 0.999\n",
        "obs = env.reset()\n",
        "S = obs2state.S\n",
        "A = env.action_space.n\n",
        "#initialize Q, for all states Q = 0\n",
        "Q = np.zeros([S,A])\n",
        "steps = np.zeros(10000)\n",
        "\n",
        "for episode in range(10000):\n",
        "  epsilon = 0.1 - 0.099/10000 * episode\n",
        "  alpha = 0.2 - 0.19/10000 * episode\n",
        "  obs = env.reset()\n",
        "  state = obs2state(obs)\n",
        "  action = choose_action(env,epsilon,state,Q)\n",
        "\n",
        "  for i in range(5000):\n",
        "    obs, reward, done, info = env.step(action)\n",
        "    state_ = obs2state(obs)\n",
        "    action_ = choose_action(env,epsilon,state_,Q)\n",
        "    update(state, state_, reward, action, action_, alpha, gamma)\n",
        "    state = state_\n",
        "    action = action_\n",
        "    if done:\n",
        "      steps[episode] = i\n",
        "      break\n",
        "\n",
        "env.close()\n",
        "\n",
        "plt.scatter(range(len(steps)),steps, s=0.1, alpha=0.5)\n",
        "plt.plot(range(len(steps)), pd.Series(steps).rolling(100).median())\n",
        "plt.xlabel(\"Episode\")\n",
        "plt.ylabel(\"Steps\")\n",
        "plt.title(\"on-policy SARSA Training performance\")\n",
        "plt.show()"
      ],
      "execution_count": 112,
      "outputs": [
        {
          "output_type": "display_data",
          "data": {
            "image/png": "[encoded data removed]",
            "text/plain": [
              "<Figure size 432x288 with 1 Axes>"
            ]
          },
          "metadata": {
            "needs_background": "light"
          }
        }
      ]
    },
    {
      "cell_type": "code",
      "metadata": {
        "colab": {
          "base_uri": "https://localhost:8080/"
        },
        "id": "RpuqZ_nGkPt5",
        "outputId": "79bbf896-55ae-4b4f-fb00-74b29f4b644a"
      },
      "source": [
        "#test\n",
        "print(\"testing:\")\n",
        "for episode in range(10):\n",
        "  obs = env.reset()\n",
        "\n",
        "  for i in range(5000):\n",
        "    state = obs2state(obs)\n",
        "    action = np.argmax(Q[state])\n",
        "    obs, reward, done, info = env.step(action)\n",
        "    if done:\n",
        "      print(f\"Episode {episode} lasted {i} steps\")\n",
        "      break\n",
        "    \n",
        "  env.close()"
      ],
      "execution_count": 119,
      "outputs": [
        {
          "output_type": "stream",
          "name": "stdout",
          "text": [
            "testing:\n",
            "Episode 0 lasted 199 steps\n",
            "Episode 1 lasted 199 steps\n",
            "Episode 2 lasted 199 steps\n",
            "Episode 3 lasted 199 steps\n",
            "Episode 4 lasted 199 steps\n",
            "Episode 5 lasted 199 steps\n",
            "Episode 6 lasted 199 steps\n",
            "Episode 7 lasted 199 steps\n",
            "Episode 8 lasted 177 steps\n",
            "Episode 9 lasted 199 steps\n"
          ]
        }
      ]
    },
    {
      "cell_type": "markdown",
      "metadata": {
        "id": "t49pT1jY1KEV"
      },
      "source": [
        "## b. off-policy Q learning"
      ]
    },
    {
      "cell_type": "code",
      "metadata": {
        "id": "xXyzMIpEnZJT"
      },
      "source": [
        "def update(state, state2, reward, action, action2,alpha,gamma):\n",
        "    Q[state, action] += alpha * (reward + gamma * Q[state2, action2] - Q[state, action])"
      ],
      "execution_count": null,
      "outputs": []
    },
    {
      "cell_type": "code",
      "metadata": {
        "id": "VFp0lmsE-aGY"
      },
      "source": [
        "#on-policy sarsa\n",
        "gamma = 0.999\n",
        "obs = env.reset()\n",
        "S = obs2state.S\n",
        "A = env.action_space.n\n",
        "#initialize Q, for all states Q = 0\n",
        "Q = np.zeros([S,A])\n",
        "steps = np.zeros(10000)\n",
        "\n",
        "for episode in range(10000):\n",
        "  epsilon = 0.1 - 0.099/10000 * episode\n",
        "  alpha = 0.2 - 0.19/10000 * episode\n",
        "  obs = env.reset()\n",
        "  state = obs2state(obs)\n",
        "  action = choose_action(env,epsilon,state,Q)\n",
        "\n",
        "  for i in range(5000):\n",
        "    obs, reward, done, info = env.step(action)\n",
        "    state_ = obs2state(obs)\n",
        "    action_ = choose_action(env,epsilon,state_,Q)\n",
        "    update(state, state_, reward, action, action_, alpha, gamma)\n",
        "    state = state_\n",
        "    action = action_\n",
        "    if done:\n",
        "      steps[episode] = i\n",
        "      break\n",
        "\n",
        "env.close()\n",
        "\n",
        "plt.scatter(range(len(steps)),steps, s=0.1, alpha=0.5)\n",
        "plt.plot(range(len(steps)), pd.Series(steps).rolling(100).median())\n",
        "plt.xlabel(\"Episode\")\n",
        "plt.ylabel(\"Steps\")\n",
        "plt.title(\"on-policy SARSA Training performance\")\n",
        "plt.show()"
      ],
      "execution_count": null,
      "outputs": []
    },
    {
      "cell_type": "code",
      "metadata": {
        "id": "dhxBoSoXB4p_"
      },
      "source": [
        "Q, train_steps = off_policy_Q(0.8,0.05,0.99)"
      ],
      "execution_count": null,
      "outputs": []
    },
    {
      "cell_type": "code",
      "metadata": {
        "colab": {
          "base_uri": "https://localhost:8080/",
          "height": 312
        },
        "id": "ty3HQyQpCREK",
        "outputId": "d2dfb9c9-d182-4f39-cf9f-7b34dcac69d3"
      },
      "source": [
        "plt.plot(train_steps, '.', markersize=0.1)\n",
        "plt.title(\"Performance of off-policy\")\n",
        "plt.xlabel(\"Iterations\")\n",
        "plt.ylabel(\"Length of training episodes\")\n",
        "plt.show"
      ],
      "execution_count": null,
      "outputs": [
        {
          "output_type": "execute_result",
          "data": {
            "text/plain": [
              "<function matplotlib.pyplot.show>"
            ]
          },
          "metadata": {},
          "execution_count": 99
        },
        {
          "output_type": "display_data",
          "data": {
            "image/png": "[encoded data removed]",
            "text/plain": [
              "<Figure size 432x288 with 1 Axes>"
            ]
          },
          "metadata": {
            "needs_background": "light"
          }
        }
      ]
    },
    {
      "cell_type": "markdown",
      "metadata": {
        "id": "GdXSvKCg1PXe"
      },
      "source": [
        "## c. off-policy Expected SARSA with an epsilon-greedy policy"
      ]
    },
    {
      "cell_type": "code",
      "metadata": {
        "id": "aRrTKkvxvvAn"
      },
      "source": [
        "def discretize_state(obs):\n",
        "  discretized = list()\n",
        "  buckets = (3, 3, 6, 6)\n",
        "  upper_bounds = [env.observation_space.high[0], 0.5, env.observation_space.high[2], math.radians(50) / 1.]\n",
        "  lower_bounds = [env.observation_space.low[0], -0.5, env.observation_space.low[2], -math.radians(50) / 1.]\n",
        "  for i in range(len(obs)):\n",
        "    scaling = ((obs[i] + abs(lower_bounds[i])) / (upper_bounds[i] - lower_bounds[i]))\n",
        "    new_obs = int(round((buckets[i] - 1) * scaling))\n",
        "    new_obs = min(buckets[i] - 1, max(0, new_obs))\n",
        "    discretized.append(new_obs)\n",
        "  return tuple(discretized)"
      ],
      "execution_count": 49,
      "outputs": []
    },
    {
      "cell_type": "code",
      "metadata": {
        "id": "CkuuIIqO1vmi"
      },
      "source": [
        "def get_epsilon(episode):\n",
        "  # Ensures that there's almost at least a min_epsilon chance of randomly exploring\n",
        "  min_epsilon = 0.1\n",
        "  decay = 25\n",
        "  return max(min_epsilon, min(1., 1. - math.log10((episode + 1) / decay)))\n",
        "\n",
        "def get_learning_rate(episode):\n",
        "  # Learning rate also declines as we add more episodes\n",
        "  min_lr = 0.1\n",
        "  decay = 25\n",
        "  return max(min_lr, min(1., 1. - math.log10((episode + 1) / decay)))"
      ],
      "execution_count": 50,
      "outputs": []
    },
    {
      "cell_type": "code",
      "metadata": {
        "id": "KpOYdfV1ppPe"
      },
      "source": [
        "def off_policy_Q(gamma,env):\n",
        "  buckets = (3,3,6,6)\n",
        "  Q = np.zeros(buckets + (env.action_space.n,))\n",
        "  steps = np.zeros(5000)\n",
        "  for episode in range(5000):\n",
        "    # Initializes the state\n",
        "    state = discretize_state(env.reset())\n",
        "    alpha = get_learning_rate(episode)\n",
        "    epsilon = get_epsilon(episode)\n",
        "    done = False\n",
        "    while not done:\n",
        "      steps[episode] += 1\n",
        "      action = choose_action(env, epsilon, state, Q)\n",
        "      # Take action\n",
        "      obs, reward, done, _ = env.step(action)\n",
        "      new_state = discretize_state(obs)\n",
        "      # Update Q(S,A)\n",
        "      Q[state][action] += alpha * (reward + gamma * np.max(Q[new_state]) - Q[state][action])\n",
        "      state = new_state\n",
        "  return steps    "
      ],
      "execution_count": 51,
      "outputs": []
    },
    {
      "cell_type": "code",
      "metadata": {
        "id": "4ZroBjyx9oz6"
      },
      "source": [
        "steps = off_policy_Q(0.9,env)"
      ],
      "execution_count": 52,
      "outputs": []
    },
    {
      "cell_type": "code",
      "metadata": {
        "colab": {
          "base_uri": "https://localhost:8080/",
          "height": 279
        },
        "id": "Q6Ka5vFw-NRE",
        "outputId": "3c926d34-03f8-46b9-fe7a-6a5a5c9ac97f"
      },
      "source": [
        "plt.scatter(range(len(steps)), steps, s=0.1, alpha=0.5)\n",
        "plt.xlabel(\"Episode\")\n",
        "plt.ylabel(\"Steps\")\n",
        "plt.show()"
      ],
      "execution_count": 53,
      "outputs": [
        {
          "output_type": "display_data",
          "data": {
            "image/png": "[encoded data removed]",
            "text/plain": [
              "<Figure size 432x288 with 1 Axes>"
            ]
          },
          "metadata": {
            "needs_background": "light"
          }
        }
      ]
    },
    {
      "cell_type": "code",
      "metadata": {
        "id": "52JfcgpoaTx7"
      },
      "source": [
        "class CartPoleQAgent():\n",
        "    def __init__(self, buckets = (3,3,6,6), num_episodes=5000, min_lr=0.1, min_epsilon=0.05, discount=0.9, decay=25):\n",
        "        self.buckets = buckets\n",
        "        self.num_episodes = num_episodes\n",
        "        self.min_lr = min_lr\n",
        "        self.min_epsilon = min_epsilon\n",
        "        self.discount = discount\n",
        "        self.decay = decay\n",
        "        self.env = gym.make('CartPole-v0')\n",
        "        self.upper_bounds = [self.env.observation_space.high[0], 0.5, self.env.observation_space.high[2], math.radians(50) / 1.]\n",
        "        self.lower_bounds = [self.env.observation_space.low[0], -0.5, self.env.observation_space.low[2], -math.radians(50) / 1.]\n",
        "        # This is the action-value function being initialized to 0's\n",
        "        self.Q = np.zeros(self.buckets + (self.env.action_space.n,))\n",
        "        self.steps = np.zeros(self.num_episodes) \n",
        "\n",
        "    def discretize_state(self, obs):\n",
        "        discretized = list()\n",
        "        for i in range(len(obs)):\n",
        "            scaling = ((obs[i] + abs(self.lower_bounds[i])) \n",
        "                       / (self.upper_bounds[i] - self.lower_bounds[i]))\n",
        "            new_obs = int(round((self.buckets[i] - 1) * scaling))\n",
        "            new_obs = min(self.buckets[i] - 1, max(0, new_obs))\n",
        "            discretized.append(new_obs)\n",
        "        return tuple(discretized)\n",
        "\n",
        "    def choose_action(self, state):\n",
        "        if (np.random.random() < self.epsilon):\n",
        "            return self.env.action_space.sample() \n",
        "        else:\n",
        "            return np.argmax(self.Q[state])\n",
        "            \n",
        "    def get_epsilon(self, t):\n",
        "        \"\"\"Gets value for epsilon. It declines as we advance in episodes.\"\"\"\n",
        "        # Ensures that there's almost at least a min_epsilon chance of randomly exploring\n",
        "        return max(self.min_epsilon, min(1., 1. - math.log10((t + 1) / self.decay)))\n",
        "\n",
        "    def get_alpha(self, t):\n",
        "        \"\"\"Gets value for learning rate. It declines as we advance in episodes.\"\"\"\n",
        "        # Learning rate also declines as we add more episodes\n",
        "        return max(self.min_lr, min(1., 1. - math.log10((t + 1) / self.decay)))\n",
        "\n",
        "    \n",
        "    def update_q(self, state, action, reward, new_state):\n",
        "        self.Q[state][action] += self.alpha * (reward + self.discount * np.max(self.Q[new_state]) - self.Q[state][action])\n",
        "\n",
        "    def train(self):\n",
        "        for episode in range(self.num_episodes):\n",
        "            # Initializes the state\n",
        "            state = self.discretize_state(self.env.reset())\n",
        "\n",
        "            self.alpha = self.get_alpha(episode)\n",
        "            self.epsilon = self.get_epsilon(episode)\n",
        "            done = False\n",
        "            \n",
        "            # Looping for each step\n",
        "            while not done:\n",
        "                self.steps[episode] += 1\n",
        "                action = self.choose_action(state)\n",
        "                obs, reward, done, _ = self.env.step(action)\n",
        "                new_state = self.discretize_state(obs)\n",
        "                self.update_q(state, action, reward, new_state)\n",
        "                state = new_state\n",
        "    \n",
        "    def plot_learning(self):\n",
        "        \"\"\"\n",
        "        Plots the number of steps at each episode and prints the\n",
        "        amount of times that an episode was successfully completed.\n",
        "        \"\"\"\n",
        "        plt.scatter(range(len(self.steps)),self.steps, s=0.1, alpha=0.5)\n",
        "        plt.xlabel(\"Episode\")\n",
        "        plt.ylabel(\"Steps\")\n",
        "        plt.show()"
      ],
      "execution_count": 57,
      "outputs": []
    },
    {
      "cell_type": "code",
      "metadata": {
        "id": "IBblRwk9aWqN"
      },
      "source": [
        "def load_q_learning():\n",
        "    agent = CartPoleQAgent()\n",
        "    agent.train()\n",
        "    agent.plot_learning()\n",
        "    return agent"
      ],
      "execution_count": 58,
      "outputs": []
    },
    {
      "cell_type": "code",
      "metadata": {
        "colab": {
          "base_uri": "https://localhost:8080/",
          "height": 279
        },
        "id": "7vJB1RSRadaJ",
        "outputId": "b3e46684-8374-48ee-bfb1-d0bfacd4b2eb"
      },
      "source": [
        "agent = load_q_learning()"
      ],
      "execution_count": 59,
      "outputs": [
        {
          "output_type": "display_data",
          "data": {
            "image/png": "[encoded data removed]",
            "text/plain": [
              "<Figure size 432x288 with 1 Axes>"
            ]
          },
          "metadata": {
            "needs_background": "light"
          }
        }
      ]
    },
    {
      "cell_type": "code",
      "metadata": {
        "colab": {
          "base_uri": "https://localhost:8080/"
        },
        "id": "go2J_IOVtf-y",
        "outputId": "dbdeee71-6f9a-430b-c54e-e54e4b15b076"
      },
      "source": [
        "Q_table = np.zeros((3, 3, 6, 6) + (2,))\n",
        "Q_table"
      ],
      "execution_count": null,
      "outputs": [
        {
          "output_type": "execute_result",
          "data": {
            "text/plain": [
              "array([[[[[0., 0.],\n",
              "          [0., 0.],\n",
              "          [0., 0.],\n",
              "          [0., 0.],\n",
              "          [0., 0.],\n",
              "          [0., 0.]],\n",
              "\n",
              "         [[0., 0.],\n",
              "          [0., 0.],\n",
              "          [0., 0.],\n",
              "          [0., 0.],\n",
              "          [0., 0.],\n",
              "          [0., 0.]],\n",
              "\n",
              "         [[0., 0.],\n",
              "          [0., 0.],\n",
              "          [0., 0.],\n",
              "          [0., 0.],\n",
              "          [0., 0.],\n",
              "          [0., 0.]],\n",
              "\n",
              "         [[0., 0.],\n",
              "          [0., 0.],\n",
              "          [0., 0.],\n",
              "          [0., 0.],\n",
              "          [0., 0.],\n",
              "          [0., 0.]],\n",
              "\n",
              "         [[0., 0.],\n",
              "          [0., 0.],\n",
              "          [0., 0.],\n",
              "          [0., 0.],\n",
              "          [0., 0.],\n",
              "          [0., 0.]],\n",
              "\n",
              "         [[0., 0.],\n",
              "          [0., 0.],\n",
              "          [0., 0.],\n",
              "          [0., 0.],\n",
              "          [0., 0.],\n",
              "          [0., 0.]]],\n",
              "\n",
              "\n",
              "        [[[0., 0.],\n",
              "          [0., 0.],\n",
              "          [0., 0.],\n",
              "          [0., 0.],\n",
              "          [0., 0.],\n",
              "          [0., 0.]],\n",
              "\n",
              "         [[0., 0.],\n",
              "          [0., 0.],\n",
              "          [0., 0.],\n",
              "          [0., 0.],\n",
              "          [0., 0.],\n",
              "          [0., 0.]],\n",
              "\n",
              "         [[0., 0.],\n",
              "          [0., 0.],\n",
              "          [0., 0.],\n",
              "          [0., 0.],\n",
              "          [0., 0.],\n",
              "          [0., 0.]],\n",
              "\n",
              "         [[0., 0.],\n",
              "          [0., 0.],\n",
              "          [0., 0.],\n",
              "          [0., 0.],\n",
              "          [0., 0.],\n",
              "          [0., 0.]],\n",
              "\n",
              "         [[0., 0.],\n",
              "          [0., 0.],\n",
              "          [0., 0.],\n",
              "          [0., 0.],\n",
              "          [0., 0.],\n",
              "          [0., 0.]],\n",
              "\n",
              "         [[0., 0.],\n",
              "          [0., 0.],\n",
              "          [0., 0.],\n",
              "          [0., 0.],\n",
              "          [0., 0.],\n",
              "          [0., 0.]]],\n",
              "\n",
              "\n",
              "        [[[0., 0.],\n",
              "          [0., 0.],\n",
              "          [0., 0.],\n",
              "          [0., 0.],\n",
              "          [0., 0.],\n",
              "          [0., 0.]],\n",
              "\n",
              "         [[0., 0.],\n",
              "          [0., 0.],\n",
              "          [0., 0.],\n",
              "          [0., 0.],\n",
              "          [0., 0.],\n",
              "          [0., 0.]],\n",
              "\n",
              "         [[0., 0.],\n",
              "          [0., 0.],\n",
              "          [0., 0.],\n",
              "          [0., 0.],\n",
              "          [0., 0.],\n",
              "          [0., 0.]],\n",
              "\n",
              "         [[0., 0.],\n",
              "          [0., 0.],\n",
              "          [0., 0.],\n",
              "          [0., 0.],\n",
              "          [0., 0.],\n",
              "          [0., 0.]],\n",
              "\n",
              "         [[0., 0.],\n",
              "          [0., 0.],\n",
              "          [0., 0.],\n",
              "          [0., 0.],\n",
              "          [0., 0.],\n",
              "          [0., 0.]],\n",
              "\n",
              "         [[0., 0.],\n",
              "          [0., 0.],\n",
              "          [0., 0.],\n",
              "          [0., 0.],\n",
              "          [0., 0.],\n",
              "          [0., 0.]]]],\n",
              "\n",
              "\n",
              "\n",
              "       [[[[0., 0.],\n",
              "          [0., 0.],\n",
              "          [0., 0.],\n",
              "          [0., 0.],\n",
              "          [0., 0.],\n",
              "          [0., 0.]],\n",
              "\n",
              "         [[0., 0.],\n",
              "          [0., 0.],\n",
              "          [0., 0.],\n",
              "          [0., 0.],\n",
              "          [0., 0.],\n",
              "          [0., 0.]],\n",
              "\n",
              "         [[0., 0.],\n",
              "          [0., 0.],\n",
              "          [0., 0.],\n",
              "          [0., 0.],\n",
              "          [0., 0.],\n",
              "          [0., 0.]],\n",
              "\n",
              "         [[0., 0.],\n",
              "          [0., 0.],\n",
              "          [0., 0.],\n",
              "          [0., 0.],\n",
              "          [0., 0.],\n",
              "          [0., 0.]],\n",
              "\n",
              "         [[0., 0.],\n",
              "          [0., 0.],\n",
              "          [0., 0.],\n",
              "          [0., 0.],\n",
              "          [0., 0.],\n",
              "          [0., 0.]],\n",
              "\n",
              "         [[0., 0.],\n",
              "          [0., 0.],\n",
              "          [0., 0.],\n",
              "          [0., 0.],\n",
              "          [0., 0.],\n",
              "          [0., 0.]]],\n",
              "\n",
              "\n",
              "        [[[0., 0.],\n",
              "          [0., 0.],\n",
              "          [0., 0.],\n",
              "          [0., 0.],\n",
              "          [0., 0.],\n",
              "          [0., 0.]],\n",
              "\n",
              "         [[0., 0.],\n",
              "          [0., 0.],\n",
              "          [0., 0.],\n",
              "          [0., 0.],\n",
              "          [0., 0.],\n",
              "          [0., 0.]],\n",
              "\n",
              "         [[0., 0.],\n",
              "          [0., 0.],\n",
              "          [0., 0.],\n",
              "          [0., 0.],\n",
              "          [0., 0.],\n",
              "          [0., 0.]],\n",
              "\n",
              "         [[0., 0.],\n",
              "          [0., 0.],\n",
              "          [0., 0.],\n",
              "          [0., 0.],\n",
              "          [0., 0.],\n",
              "          [0., 0.]],\n",
              "\n",
              "         [[0., 0.],\n",
              "          [0., 0.],\n",
              "          [0., 0.],\n",
              "          [0., 0.],\n",
              "          [0., 0.],\n",
              "          [0., 0.]],\n",
              "\n",
              "         [[0., 0.],\n",
              "          [0., 0.],\n",
              "          [0., 0.],\n",
              "          [0., 0.],\n",
              "          [0., 0.],\n",
              "          [0., 0.]]],\n",
              "\n",
              "\n",
              "        [[[0., 0.],\n",
              "          [0., 0.],\n",
              "          [0., 0.],\n",
              "          [0., 0.],\n",
              "          [0., 0.],\n",
              "          [0., 0.]],\n",
              "\n",
              "         [[0., 0.],\n",
              "          [0., 0.],\n",
              "          [0., 0.],\n",
              "          [0., 0.],\n",
              "          [0., 0.],\n",
              "          [0., 0.]],\n",
              "\n",
              "         [[0., 0.],\n",
              "          [0., 0.],\n",
              "          [0., 0.],\n",
              "          [0., 0.],\n",
              "          [0., 0.],\n",
              "          [0., 0.]],\n",
              "\n",
              "         [[0., 0.],\n",
              "          [0., 0.],\n",
              "          [0., 0.],\n",
              "          [0., 0.],\n",
              "          [0., 0.],\n",
              "          [0., 0.]],\n",
              "\n",
              "         [[0., 0.],\n",
              "          [0., 0.],\n",
              "          [0., 0.],\n",
              "          [0., 0.],\n",
              "          [0., 0.],\n",
              "          [0., 0.]],\n",
              "\n",
              "         [[0., 0.],\n",
              "          [0., 0.],\n",
              "          [0., 0.],\n",
              "          [0., 0.],\n",
              "          [0., 0.],\n",
              "          [0., 0.]]]],\n",
              "\n",
              "\n",
              "\n",
              "       [[[[0., 0.],\n",
              "          [0., 0.],\n",
              "          [0., 0.],\n",
              "          [0., 0.],\n",
              "          [0., 0.],\n",
              "          [0., 0.]],\n",
              "\n",
              "         [[0., 0.],\n",
              "          [0., 0.],\n",
              "          [0., 0.],\n",
              "          [0., 0.],\n",
              "          [0., 0.],\n",
              "          [0., 0.]],\n",
              "\n",
              "         [[0., 0.],\n",
              "          [0., 0.],\n",
              "          [0., 0.],\n",
              "          [0., 0.],\n",
              "          [0., 0.],\n",
              "          [0., 0.]],\n",
              "\n",
              "         [[0., 0.],\n",
              "          [0., 0.],\n",
              "          [0., 0.],\n",
              "          [0., 0.],\n",
              "          [0., 0.],\n",
              "          [0., 0.]],\n",
              "\n",
              "         [[0., 0.],\n",
              "          [0., 0.],\n",
              "          [0., 0.],\n",
              "          [0., 0.],\n",
              "          [0., 0.],\n",
              "          [0., 0.]],\n",
              "\n",
              "         [[0., 0.],\n",
              "          [0., 0.],\n",
              "          [0., 0.],\n",
              "          [0., 0.],\n",
              "          [0., 0.],\n",
              "          [0., 0.]]],\n",
              "\n",
              "\n",
              "        [[[0., 0.],\n",
              "          [0., 0.],\n",
              "          [0., 0.],\n",
              "          [0., 0.],\n",
              "          [0., 0.],\n",
              "          [0., 0.]],\n",
              "\n",
              "         [[0., 0.],\n",
              "          [0., 0.],\n",
              "          [0., 0.],\n",
              "          [0., 0.],\n",
              "          [0., 0.],\n",
              "          [0., 0.]],\n",
              "\n",
              "         [[0., 0.],\n",
              "          [0., 0.],\n",
              "          [0., 0.],\n",
              "          [0., 0.],\n",
              "          [0., 0.],\n",
              "          [0., 0.]],\n",
              "\n",
              "         [[0., 0.],\n",
              "          [0., 0.],\n",
              "          [0., 0.],\n",
              "          [0., 0.],\n",
              "          [0., 0.],\n",
              "          [0., 0.]],\n",
              "\n",
              "         [[0., 0.],\n",
              "          [0., 0.],\n",
              "          [0., 0.],\n",
              "          [0., 0.],\n",
              "          [0., 0.],\n",
              "          [0., 0.]],\n",
              "\n",
              "         [[0., 0.],\n",
              "          [0., 0.],\n",
              "          [0., 0.],\n",
              "          [0., 0.],\n",
              "          [0., 0.],\n",
              "          [0., 0.]]],\n",
              "\n",
              "\n",
              "        [[[0., 0.],\n",
              "          [0., 0.],\n",
              "          [0., 0.],\n",
              "          [0., 0.],\n",
              "          [0., 0.],\n",
              "          [0., 0.]],\n",
              "\n",
              "         [[0., 0.],\n",
              "          [0., 0.],\n",
              "          [0., 0.],\n",
              "          [0., 0.],\n",
              "          [0., 0.],\n",
              "          [0., 0.]],\n",
              "\n",
              "         [[0., 0.],\n",
              "          [0., 0.],\n",
              "          [0., 0.],\n",
              "          [0., 0.],\n",
              "          [0., 0.],\n",
              "          [0., 0.]],\n",
              "\n",
              "         [[0., 0.],\n",
              "          [0., 0.],\n",
              "          [0., 0.],\n",
              "          [0., 0.],\n",
              "          [0., 0.],\n",
              "          [0., 0.]],\n",
              "\n",
              "         [[0., 0.],\n",
              "          [0., 0.],\n",
              "          [0., 0.],\n",
              "          [0., 0.],\n",
              "          [0., 0.],\n",
              "          [0., 0.]],\n",
              "\n",
              "         [[0., 0.],\n",
              "          [0., 0.],\n",
              "          [0., 0.],\n",
              "          [0., 0.],\n",
              "          [0., 0.],\n",
              "          [0., 0.]]]]])"
            ]
          },
          "metadata": {},
          "execution_count": 5
        }
      ]
    }
  ]
}