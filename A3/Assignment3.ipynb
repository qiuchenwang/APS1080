{
  "nbformat": 4,
  "nbformat_minor": 0,
  "metadata": {
    "colab": {
      "name": "Untitled2.ipynb",
      "provenance": [],
      "collapsed_sections": []
    },
    "kernelspec": {
      "name": "python3",
      "display_name": "Python 3"
    },
    "language_info": {
      "name": "python"
    }
  },
  "cells": [
    {
      "cell_type": "markdown",
      "metadata": {
        "id": "SISCoX3q8HfC"
      },
      "source": [
        "# A3: TD(n) and Mountain Car\n",
        "> In this assignment we are going to apply the TD(n) methods to solve the Mountain Car problem.\n",
        "\n",
        "> By now, you should know how to load OpenAI gym environments: env = gym.make('MountainCar-v0')"
      ]
    },
    {
      "cell_type": "code",
      "metadata": {
        "id": "fn6rbuzv7moQ"
      },
      "source": [
        "import gym\n",
        "import numpy as np\n",
        "import pandas as pd\n",
        "import matplotlib.pyplot as plt\n",
        "from collections import *"
      ],
      "execution_count": 2,
      "outputs": []
    },
    {
      "cell_type": "markdown",
      "metadata": {
        "id": "ilwLHuZk8fxW"
      },
      "source": [
        "## Exercise 1: Prelims\n",
        "> These are useful exercises to develop facility with the environment prior to the graded component of the assignment. Explore the above environment as we've done in past assignments and exercises.\n",
        "\n",
        "> Develop a MC controller and assess its performance."
      ]
    },
    {
      "cell_type": "code",
      "metadata": {
        "colab": {
          "base_uri": "https://localhost:8080/"
        },
        "id": "Z2gKqP0Z9I-Y",
        "outputId": "050b70c5-c691-4d27-ca59-4d4474f25c86"
      },
      "source": [
        "#Mountain Car Problem\n",
        "env = gym.make(\"MountainCar-v0\")\n",
        "env.reset()\n",
        "\n",
        "for i in range(50000):\n",
        "  action = env.action_space.sample()\n",
        "  obs, reward, done, info = env.step(action)\n",
        "  print(\"step\",i,\"action=\",action, \"obs=\",obs,\"reward=\",reward,\"done=\",done,\"info=\",info)\n",
        "\n",
        "  if done:\n",
        "    break\n",
        "    \n",
        "env.close()\n",
        "print(\"Iterations that were run:\",i)"
      ],
      "execution_count": 3,
      "outputs": [
        {
          "output_type": "stream",
          "name": "stdout",
          "text": [
            "step 0 action= 1 obs= [-5.24962660e-01  1.03063989e-05] reward= -1.0 done= False info= {}\n",
            "step 1 action= 1 obs= [-5.24942124e-01  2.05355005e-05] reward= -1.0 done= False info= {}\n",
            "step 2 action= 1 obs= [-5.24911514e-01  3.06105871e-05] reward= -1.0 done= False info= {}\n",
            "step 3 action= 0 obs= [-0.52587106 -0.00095954] reward= -1.0 done= False info= {}\n",
            "step 4 action= 2 obs= [-5.25813559e-01  5.74980779e-05] reward= -1.0 done= False info= {}\n",
            "step 5 action= 2 obs= [-0.52473945  0.00107411] reward= -1.0 done= False info= {}\n",
            "step 6 action= 1 obs= [-0.52365679  0.00108266] reward= -1.0 done= False info= {}\n",
            "step 7 action= 0 obs= [-5.23573688e-01  8.30989619e-05] reward= -1.0 done= False info= {}\n",
            "step 8 action= 0 obs= [-0.52449078 -0.00091709] reward= -1.0 done= False info= {}\n",
            "step 9 action= 1 obs= [-0.52540118 -0.0009104 ] reward= -1.0 done= False info= {}\n",
            "step 10 action= 1 obs= [-0.52629806 -0.00089688] reward= -1.0 done= False info= {}\n",
            "step 11 action= 0 obs= [-0.52817469 -0.00187664] reward= -1.0 done= False info= {}\n",
            "step 12 action= 1 obs= [-0.53001701 -0.00184232] reward= -1.0 done= False info= {}\n",
            "step 13 action= 0 obs= [-0.5328112  -0.00279418] reward= -1.0 done= False info= {}\n",
            "step 14 action= 0 obs= [-0.5365363 -0.0037251] reward= -1.0 done= False info= {}\n",
            "step 15 action= 2 obs= [-0.53916439 -0.00262809] reward= -1.0 done= False info= {}\n",
            "step 16 action= 1 obs= [-0.54167578 -0.00251139] reward= -1.0 done= False info= {}\n",
            "step 17 action= 1 obs= [-0.54405167 -0.00237588] reward= -1.0 done= False info= {}\n",
            "step 18 action= 2 obs= [-0.54527425 -0.00122258] reward= -1.0 done= False info= {}\n",
            "step 19 action= 1 obs= [-0.54633438 -0.00106013] reward= -1.0 done= False info= {}\n",
            "step 20 action= 2 obs= [-5.46224126e-01  1.10254308e-04] reward= -1.0 done= False info= {}\n",
            "step 21 action= 1 obs= [-5.45944311e-01  2.79814165e-04] reward= -1.0 done= False info= {}\n",
            "step 22 action= 0 obs= [-0.54649703 -0.00055272] reward= -1.0 done= False info= {}\n",
            "step 23 action= 1 obs= [-5.46878149e-01 -3.81117932e-04] reward= -1.0 done= False info= {}\n",
            "step 24 action= 2 obs= [-0.54608481  0.00079334] reward= -1.0 done= False info= {}\n",
            "step 25 action= 0 obs= [-5.46122961e-01 -3.81471140e-05] reward= -1.0 done= False info= {}\n",
            "step 26 action= 2 obs= [-0.54499231  0.00113066] reward= -1.0 done= False info= {}\n",
            "step 27 action= 1 obs= [-0.54370131  0.001291  ] reward= -1.0 done= False info= {}\n",
            "step 28 action= 2 obs= [-0.54125963  0.00244167] reward= -1.0 done= False info= {}\n",
            "step 29 action= 1 obs= [-0.53868556  0.00257407] reward= -1.0 done= False info= {}\n",
            "step 30 action= 1 obs= [-0.53599838  0.00268718] reward= -1.0 done= False info= {}\n",
            "step 31 action= 0 obs= [-0.53421823  0.00178016] reward= -1.0 done= False info= {}\n",
            "step 32 action= 0 obs= [-0.53335844  0.00085979] reward= -1.0 done= False info= {}\n",
            "step 33 action= 1 obs= [-0.53242546  0.00093298] reward= -1.0 done= False info= {}\n",
            "step 34 action= 1 obs= [-0.53142629  0.00099917] reward= -1.0 done= False info= {}\n",
            "step 35 action= 0 obs= [-5.31368421e-01  5.78698316e-05] reward= -1.0 done= False info= {}\n",
            "step 36 action= 1 obs= [-5.31252284e-01  1.16136895e-04] reward= -1.0 done= False info= {}\n",
            "step 37 action= 1 obs= [-5.31078751e-01  1.73533166e-04] reward= -1.0 done= False info= {}\n",
            "step 38 action= 0 obs= [-0.53184912 -0.00077037] reward= -1.0 done= False info= {}\n",
            "step 39 action= 2 obs= [-5.31557623e-01  2.91499558e-04] reward= -1.0 done= False info= {}\n",
            "step 40 action= 0 obs= [-0.53220644 -0.00064881] reward= -1.0 done= False info= {}\n",
            "step 41 action= 1 obs= [-0.5327907  -0.00058426] reward= -1.0 done= False info= {}\n",
            "step 42 action= 2 obs= [-5.32306036e-01  4.84666248e-04] reward= -1.0 done= False info= {}\n",
            "step 43 action= 1 obs= [-0.53175607  0.00054996] reward= -1.0 done= False info= {}\n",
            "step 44 action= 0 obs= [-5.32144936e-01 -3.88863103e-04] reward= -1.0 done= False info= {}\n",
            "step 45 action= 1 obs= [-5.32469710e-01 -3.24773922e-04] reward= -1.0 done= False info= {}\n",
            "step 46 action= 0 obs= [-0.53372796 -0.00125825] reward= -1.0 done= False info= {}\n",
            "step 47 action= 2 obs= [-5.33910252e-01 -1.82292580e-04] reward= -1.0 done= False info= {}\n",
            "step 48 action= 0 obs= [-0.53501522 -0.00110497] reward= -1.0 done= False info= {}\n",
            "step 49 action= 2 obs= [-5.35034583e-01 -1.93622378e-05] reward= -1.0 done= False info= {}\n",
            "step 50 action= 0 obs= [-0.53596819 -0.00093361] reward= -1.0 done= False info= {}\n",
            "step 51 action= 1 obs= [-0.53680905 -0.00084086] reward= -1.0 done= False info= {}\n",
            "step 52 action= 0 obs= [-0.53855086 -0.00174181] reward= -1.0 done= False info= {}\n",
            "step 53 action= 0 obs= [-0.54118057 -0.00262971] reward= -1.0 done= False info= {}\n",
            "step 54 action= 2 obs= [-0.54267848 -0.0014979 ] reward= -1.0 done= False info= {}\n",
            "step 55 action= 1 obs= [-0.54403336 -0.00135488] reward= -1.0 done= False info= {}\n",
            "step 56 action= 0 obs= [-0.54623508 -0.00220172] reward= -1.0 done= False info= {}\n",
            "step 57 action= 2 obs= [-0.54726716 -0.00103208] reward= -1.0 done= False info= {}\n",
            "step 58 action= 0 obs= [-0.54912188 -0.00185472] reward= -1.0 done= False info= {}\n",
            "step 59 action= 0 obs= [-0.55178536 -0.00266348] reward= -1.0 done= False info= {}\n",
            "step 60 action= 2 obs= [-0.55323769 -0.00145233] reward= -1.0 done= False info= {}\n",
            "step 61 action= 0 obs= [-0.55546802 -0.00223033] reward= -1.0 done= False info= {}\n",
            "step 62 action= 1 obs= [-0.5574597  -0.00199168] reward= -1.0 done= False info= {}\n",
            "step 63 action= 0 obs= [-0.56019786 -0.00273816] reward= -1.0 done= False info= {}\n",
            "step 64 action= 0 obs= [-0.56366207 -0.00346422] reward= -1.0 done= False info= {}\n",
            "step 65 action= 0 obs= [-0.56782654 -0.00416446] reward= -1.0 done= False info= {}\n",
            "step 66 action= 2 obs= [-0.57066026 -0.00283373] reward= -1.0 done= False info= {}\n",
            "step 67 action= 0 obs= [-0.5741422  -0.00348194] reward= -1.0 done= False info= {}\n",
            "step 68 action= 1 obs= [-0.57724652 -0.00310431] reward= -1.0 done= False info= {}\n",
            "step 69 action= 2 obs= [-0.57895021 -0.00170369] reward= -1.0 done= False info= {}\n",
            "step 70 action= 0 obs= [-0.58124067 -0.00229046] reward= -1.0 done= False info= {}\n",
            "step 71 action= 1 obs= [-0.58310096 -0.0018603 ] reward= -1.0 done= False info= {}\n",
            "step 72 action= 0 obs= [-0.58551736 -0.0024164 ] reward= -1.0 done= False info= {}\n",
            "step 73 action= 0 obs= [-0.58847203 -0.00295467] reward= -1.0 done= False info= {}\n",
            "step 74 action= 2 obs= [-0.58994322 -0.00147119] reward= -1.0 done= False info= {}\n",
            "step 75 action= 0 obs= [-0.59192011 -0.00197688] reward= -1.0 done= False info= {}\n",
            "step 76 action= 2 obs= [-5.92388161e-01 -4.68055018e-04] reward= -1.0 done= False info= {}\n",
            "step 77 action= 2 obs= [-0.59134395  0.00104421] reward= -1.0 done= False info= {}\n",
            "step 78 action= 0 obs= [-5.90795140e-01  5.48809453e-04] reward= -1.0 done= False info= {}\n",
            "step 79 action= 2 obs= [-0.58874576  0.00204938] reward= -1.0 done= False info= {}\n",
            "step 80 action= 1 obs= [-0.58621089  0.00253487] reward= -1.0 done= False info= {}\n",
            "step 81 action= 0 obs= [-0.58420918  0.00200171] reward= -1.0 done= False info= {}\n",
            "step 82 action= 0 obs= [-0.5827554   0.00145379] reward= -1.0 done= False info= {}\n",
            "step 83 action= 1 obs= [-0.58086026  0.00189513] reward= -1.0 done= False info= {}\n",
            "step 84 action= 0 obs= [-0.57953778  0.00132249] reward= -1.0 done= False info= {}\n",
            "step 85 action= 2 obs= [-0.57679771  0.00274006] reward= -1.0 done= False info= {}\n",
            "step 86 action= 1 obs= [-0.57366035  0.00313736] reward= -1.0 done= False info= {}\n",
            "step 87 action= 1 obs= [-0.57014894  0.00351141] reward= -1.0 done= False info= {}\n",
            "step 88 action= 1 obs= [-0.56628953  0.00385941] reward= -1.0 done= False info= {}\n",
            "step 89 action= 1 obs= [-0.56211082  0.00417871] reward= -1.0 done= False info= {}\n",
            "step 90 action= 1 obs= [-0.5576439   0.00446691] reward= -1.0 done= False info= {}\n",
            "step 91 action= 2 obs= [-0.5519221   0.00572181] reward= -1.0 done= False info= {}\n",
            "step 92 action= 1 obs= [-0.54598812  0.00593398] reward= -1.0 done= False info= {}\n",
            "step 93 action= 1 obs= [-0.53988635  0.00610177] reward= -1.0 done= False info= {}\n",
            "step 94 action= 0 obs= [-0.53466247  0.00522388] reward= -1.0 done= False info= {}\n",
            "step 95 action= 2 obs= [-0.52835563  0.00630684] reward= -1.0 done= False info= {}\n",
            "step 96 action= 2 obs= [-0.52101312  0.00734252] reward= -1.0 done= False info= {}\n",
            "step 97 action= 1 obs= [-0.51368999  0.00732312] reward= -1.0 done= False info= {}\n",
            "step 98 action= 2 obs= [-0.50544118  0.00824882] reward= -1.0 done= False info= {}\n",
            "step 99 action= 2 obs= [-0.49632847  0.0091127 ] reward= -1.0 done= False info= {}\n",
            "step 100 action= 1 obs= [-0.48742007  0.0089084 ] reward= -1.0 done= False info= {}\n",
            "step 101 action= 1 obs= [-0.47878247  0.0086376 ] reward= -1.0 done= False info= {}\n",
            "step 102 action= 0 obs= [-0.47147998  0.00730249] reward= -1.0 done= False info= {}\n",
            "step 103 action= 0 obs= [-0.4655668   0.00591319] reward= -1.0 done= False info= {}\n",
            "step 104 action= 1 obs= [-0.46008666  0.00548014] reward= -1.0 done= False info= {}\n",
            "step 105 action= 2 obs= [-0.45407998  0.00600668] reward= -1.0 done= False info= {}\n",
            "step 106 action= 1 obs= [-0.44859092  0.00548906] reward= -1.0 done= False info= {}\n",
            "step 107 action= 0 obs= [-0.44465969  0.00393123] reward= -1.0 done= False info= {}\n",
            "step 108 action= 2 obs= [-0.44031498  0.00434471] reward= -1.0 done= False info= {}\n",
            "step 109 action= 0 obs= [-0.43758842  0.00272656] reward= -1.0 done= False info= {}\n",
            "step 110 action= 2 obs= [-0.4344998   0.00308862] reward= -1.0 done= False info= {}\n",
            "step 111 action= 1 obs= [-0.4320715  0.0024283] reward= -1.0 done= False info= {}\n",
            "step 112 action= 2 obs= [-0.42932105  0.00275044] reward= -1.0 done= False info= {}\n",
            "step 113 action= 2 obs= [-0.42626831  0.00305275] reward= -1.0 done= False info= {}\n",
            "step 114 action= 0 obs= [-0.42493521  0.0013331 ] reward= -1.0 done= False info= {}\n",
            "step 115 action= 1 obs= [-0.42433133  0.00060388] reward= -1.0 done= False info= {}\n",
            "step 116 action= 1 obs= [-4.24460996e-01 -1.29669919e-04] reward= -1.0 done= False info= {}\n",
            "step 117 action= 2 obs= [-4.24323286e-01  1.37709860e-04] reward= -1.0 done= False info= {}\n",
            "step 118 action= 1 obs= [-0.42491918 -0.0005959 ] reward= -1.0 done= False info= {}\n",
            "step 119 action= 2 obs= [-4.25244416e-01 -3.25231768e-04] reward= -1.0 done= False info= {}\n",
            "step 120 action= 0 obs= [-0.42729665 -0.00205223] reward= -1.0 done= False info= {}\n",
            "step 121 action= 2 obs= [-0.42906114 -0.00176449] reward= -1.0 done= False info= {}\n",
            "step 122 action= 2 obs= [-0.4305252  -0.00146406] reward= -1.0 done= False info= {}\n",
            "step 123 action= 1 obs= [-0.43267827 -0.00215307] reward= -1.0 done= False info= {}\n",
            "step 124 action= 1 obs= [-0.43550483 -0.00282655] reward= -1.0 done= False info= {}\n",
            "step 125 action= 0 obs= [-0.43998442 -0.00447959] reward= -1.0 done= False info= {}\n",
            "step 126 action= 1 obs= [-0.44508457 -0.00510015] reward= -1.0 done= False info= {}\n",
            "step 127 action= 2 obs= [-0.44976814 -0.00468357] reward= -1.0 done= False info= {}\n",
            "step 128 action= 2 obs= [-0.45400093 -0.00423279] reward= -1.0 done= False info= {}\n",
            "step 129 action= 1 obs= [-0.45875191 -0.00475099] reward= -1.0 done= False info= {}\n",
            "step 130 action= 2 obs= [-0.46298619 -0.00423428] reward= -1.0 done= False info= {}\n",
            "step 131 action= 2 obs= [-0.46667255 -0.00368637] reward= -1.0 done= False info= {}\n",
            "step 132 action= 2 obs= [-0.4697838  -0.00311124] reward= -1.0 done= False info= {}\n",
            "step 133 action= 2 obs= [-0.4722969 -0.0025131] reward= -1.0 done= False info= {}\n",
            "step 134 action= 2 obs= [-0.47419325 -0.00189635] reward= -1.0 done= False info= {}\n",
            "step 135 action= 1 obs= [-0.47645879 -0.00226554] reward= -1.0 done= False info= {}\n",
            "step 136 action= 2 obs= [-0.4780767  -0.00161791] reward= -1.0 done= False info= {}\n",
            "step 137 action= 0 obs= [-0.48103496 -0.00295827] reward= -1.0 done= False info= {}\n",
            "step 138 action= 1 obs= [-0.48431159 -0.00327663] reward= -1.0 done= False info= {}\n",
            "step 139 action= 1 obs= [-0.48788219 -0.0035706 ] reward= -1.0 done= False info= {}\n",
            "step 140 action= 1 obs= [-0.49172015 -0.00383796] reward= -1.0 done= False info= {}\n",
            "step 141 action= 2 obs= [-0.49479684 -0.00307669] reward= -1.0 done= False info= {}\n",
            "step 142 action= 2 obs= [-0.49708927 -0.00229243] reward= -1.0 done= False info= {}\n",
            "step 143 action= 2 obs= [-0.49858031 -0.00149104] reward= -1.0 done= False info= {}\n",
            "step 144 action= 1 obs= [-0.50025882 -0.00167851] reward= -1.0 done= False info= {}\n",
            "step 145 action= 2 obs= [-0.50111223 -0.00085341] reward= -1.0 done= False info= {}\n",
            "step 146 action= 0 obs= [-0.50313417 -0.00202193] reward= -1.0 done= False info= {}\n",
            "step 147 action= 2 obs= [-0.50430949 -0.00117532] reward= -1.0 done= False info= {}\n",
            "step 148 action= 1 obs= [-0.5056294  -0.00131991] reward= -1.0 done= False info= {}\n",
            "step 149 action= 1 obs= [-0.50708402 -0.00145462] reward= -1.0 done= False info= {}\n",
            "step 150 action= 1 obs= [-0.50866245 -0.00157843] reward= -1.0 done= False info= {}\n",
            "step 151 action= 1 obs= [-0.51035286 -0.00169041] reward= -1.0 done= False info= {}\n",
            "step 152 action= 1 obs= [-0.51214259 -0.00178973] reward= -1.0 done= False info= {}\n",
            "step 153 action= 0 obs= [-0.51501822 -0.00287563] reward= -1.0 done= False info= {}\n",
            "step 154 action= 1 obs= [-0.5179582  -0.00293998] reward= -1.0 done= False info= {}\n",
            "step 155 action= 2 obs= [-0.51994049 -0.00198228] reward= -1.0 done= False info= {}\n",
            "step 156 action= 0 obs= [-0.52295021 -0.00300972] reward= -1.0 done= False info= {}\n",
            "step 157 action= 1 obs= [-0.52596479 -0.00301458] reward= -1.0 done= False info= {}\n",
            "step 158 action= 1 obs= [-0.52896163 -0.00299684] reward= -1.0 done= False info= {}\n",
            "step 159 action= 0 obs= [-0.53291825 -0.00395662] reward= -1.0 done= False info= {}\n",
            "step 160 action= 0 obs= [-0.53780498 -0.00488673] reward= -1.0 done= False info= {}\n",
            "step 161 action= 2 obs= [-0.5415852  -0.00378022] reward= -1.0 done= False info= {}\n",
            "step 162 action= 2 obs= [-0.54423059 -0.00264539] reward= -1.0 done= False info= {}\n",
            "step 163 action= 1 obs= [-0.54672133 -0.00249075] reward= -1.0 done= False info= {}\n",
            "step 164 action= 0 obs= [-0.5500388  -0.00331747] reward= -1.0 done= False info= {}\n",
            "step 165 action= 1 obs= [-0.55315817 -0.00311937] reward= -1.0 done= False info= {}\n",
            "step 166 action= 1 obs= [-0.55605614 -0.00289797] reward= -1.0 done= False info= {}\n",
            "step 167 action= 0 obs= [-0.55971106 -0.00365492] reward= -1.0 done= False info= {}\n",
            "step 168 action= 0 obs= [-0.56409567 -0.00438461] reward= -1.0 done= False info= {}\n",
            "step 169 action= 2 obs= [-0.5671773  -0.00308163] reward= -1.0 done= False info= {}\n",
            "step 170 action= 1 obs= [-0.56993302 -0.00275572] reward= -1.0 done= False info= {}\n",
            "step 171 action= 0 obs= [-0.57334236 -0.00340933] reward= -1.0 done= False info= {}\n",
            "step 172 action= 2 obs= [-0.57538    -0.00203764] reward= -1.0 done= False info= {}\n",
            "step 173 action= 2 obs= [-0.57603084 -0.00065084] reward= -1.0 done= False info= {}\n",
            "step 174 action= 1 obs= [-5.76290054e-01 -2.59218865e-04] reward= -1.0 done= False info= {}\n",
            "step 175 action= 0 obs= [-0.57715573 -0.00086568] reward= -1.0 done= False info= {}\n",
            "step 176 action= 1 obs= [-5.77621459e-01 -4.65726806e-04] reward= -1.0 done= False info= {}\n",
            "step 177 action= 1 obs= [-5.77683787e-01 -6.23280541e-05] reward= -1.0 done= False info= {}\n",
            "step 178 action= 0 obs= [-0.57834226 -0.00065847] reward= -1.0 done= False info= {}\n",
            "step 179 action= 1 obs= [-5.78591990e-01 -2.49735041e-04] reward= -1.0 done= False info= {}\n",
            "step 180 action= 1 obs= [-5.78431145e-01  1.60845588e-04] reward= -1.0 done= False info= {}\n",
            "step 181 action= 1 obs= [-5.77860909e-01  5.70236208e-04] reward= -1.0 done= False info= {}\n",
            "step 182 action= 1 obs= [-0.5768855   0.00097541] reward= -1.0 done= False info= {}\n",
            "step 183 action= 2 obs= [-0.57451214  0.00237336] reward= -1.0 done= False info= {}\n",
            "step 184 action= 2 obs= [-0.57075842  0.00375372] reward= -1.0 done= False info= {}\n",
            "step 185 action= 1 obs= [-0.56665218  0.00410624] reward= -1.0 done= False info= {}\n",
            "step 186 action= 1 obs= [-0.56222393  0.00442825] reward= -1.0 done= False info= {}\n",
            "step 187 action= 0 obs= [-0.55850664  0.00371729] reward= -1.0 done= False info= {}\n",
            "step 188 action= 2 obs= [-0.55352802  0.00497862] reward= -1.0 done= False info= {}\n",
            "step 189 action= 2 obs= [-0.54732524  0.00620279] reward= -1.0 done= False info= {}\n",
            "step 190 action= 0 obs= [-0.54194465  0.00538058] reward= -1.0 done= False info= {}\n",
            "step 191 action= 1 obs= [-0.53642654  0.00551811] reward= -1.0 done= False info= {}\n",
            "step 192 action= 0 obs= [-0.53181225  0.00461429] reward= -1.0 done= False info= {}\n",
            "step 193 action= 2 obs= [-0.52613636  0.00567589] reward= -1.0 done= False info= {}\n",
            "step 194 action= 2 obs= [-0.51944144  0.00669492] reward= -1.0 done= False info= {}\n",
            "step 195 action= 1 obs= [-0.5127777   0.00666374] reward= -1.0 done= False info= {}\n",
            "step 196 action= 0 obs= [-0.5071951  0.0055826] reward= -1.0 done= False info= {}\n",
            "step 197 action= 2 obs= [-0.50073548  0.00645962] reward= -1.0 done= False info= {}\n",
            "step 198 action= 2 obs= [-0.4934472   0.00728828] reward= -1.0 done= False info= {}\n",
            "step 199 action= 0 obs= [-0.48738475  0.00606245] reward= -1.0 done= True info= {'TimeLimit.truncated': True}\n",
            "Iterations that were run: 199\n"
          ]
        }
      ]
    },
    {
      "cell_type": "code",
      "metadata": {
        "id": "kvYCbc8EBXdn"
      },
      "source": [
        "def discretised_state(state):\n",
        "\tDISCRETE_SIZE = (env.observation_space.high-env.observation_space.low)/[DISCRETE_BUCKETS]*len(env.observation_space.high)\n",
        "\tdiscrete_state = (state-env.observation_space.low)//DISCRETE_SIZE\n",
        "\treturn tuple(discrete_state.astype(np.int))"
      ],
      "execution_count": 4,
      "outputs": []
    },
    {
      "cell_type": "code",
      "metadata": {
        "id": "XxcSS8pFhwCi"
      },
      "source": [
        "def get_action(state):\n",
        "  #e-greedy policy\n",
        "\tif np.random.random() > EPSILON:\n",
        "\t\treturn np.argmax(Q_TABLE[state])\n",
        "\telse:\n",
        "\t\treturn np.random.randint(0, env.action_space.n)"
      ],
      "execution_count": 5,
      "outputs": []
    },
    {
      "cell_type": "markdown",
      "metadata": {
        "id": "6jkHmN-_oIEh"
      },
      "source": [
        "##Task 1: TD(0)\n",
        "> Develop a TD(0) controller using:\n",
        "\n",
        ">* on-policy SARSA\n",
        ">* on-policy expected SARSA\n",
        ">* off-policy expected SARSA with a greedy control policy.\n",
        "\n",
        "> Compare the performance of your controllers."
      ]
    },
    {
      "cell_type": "code",
      "metadata": {
        "colab": {
          "base_uri": "https://localhost:8080/",
          "height": 567
        },
        "id": "h3lF9wSZYaxy",
        "outputId": "2d200d07-a442-4a07-a1f2-b923ffe7efed"
      },
      "source": [
        "DISCRETE_BUCKETS = 20\n",
        "EPISODES = 8000\n",
        "DISCOUNT = 0.95\n",
        "EPISODE_DISPLAY = 500\n",
        "LEARNING_RATE = 0.1\n",
        "EPSILON = 0.5\n",
        "EPSILON_DECREMENTER = EPSILON/(EPISODES//4)\n",
        "\n",
        "#Q-Table of size DISCRETE_BUCKETS*DISCRETE_BUCKETS*env.action_space.n\n",
        "Q_TABLE = np.random.randn(DISCRETE_BUCKETS,DISCRETE_BUCKETS,env.action_space.n)\n",
        "\n",
        "# For stats\n",
        "ep_rewards = []\n",
        "ep_rewards_table = {'ep': [], 'avg': []}\n",
        "\n",
        "for episode in range(EPISODES):\n",
        "\tepisode_reward = 0\n",
        "\tdone = False\n",
        "\n",
        "\tcurr_discrete_state = discretised_state(env.reset())\n",
        "\taction = get_action(curr_discrete_state)\n",
        "\n",
        "\twhile not done:\t\t\n",
        "\t\tnew_state, reward, done, _ = env.step(action)\n",
        "\t\tnew_discrete_state = discretised_state(new_state)\n",
        "\t\tnew_action = get_action(new_discrete_state)\n",
        "\n",
        "\t\tif not done:\n",
        "\t\t\tcurrent_q = Q_TABLE[curr_discrete_state+(action,)]\t\t\t\n",
        "\t\t\tmax_future_q = Q_TABLE[new_discrete_state+(new_action,)]\n",
        "\t\t\tnew_q = current_q + LEARNING_RATE*(reward+DISCOUNT*max_future_q-current_q)\n",
        "\t\t\tQ_TABLE[curr_discrete_state+(action,)]=new_q\n",
        "\t\telif new_state[0] >= env.goal_position:\n",
        "\t\t\tQ_TABLE[curr_discrete_state + (action,)] = 0\n",
        "\n",
        "\t\tcurr_discrete_state = new_discrete_state\n",
        "\t\taction = new_action\n",
        "\n",
        "\t\tepisode_reward += reward\n",
        "\n",
        "\tEPSILON = EPSILON - EPSILON_DECREMENTER\n",
        "\n",
        "\tep_rewards.append(episode_reward)\n",
        "\n",
        "\tif not episode % EPISODE_DISPLAY:\n",
        "\t\tavg_reward = sum(ep_rewards[-EPISODE_DISPLAY:])/len(ep_rewards[-EPISODE_DISPLAY:])\n",
        "\t\tep_rewards_table['ep'].append(episode)\n",
        "\t\tep_rewards_table['avg'].append(avg_reward)\n",
        "\t\t\n",
        "\t\tprint(f\"Episode:{episode} avg:{avg_reward}\")\n",
        "\n",
        "env.close()\n",
        "\n",
        "plt.scatter(range(len(ep_rewards)), ep_rewards, s=0.1, alpha=0.5)\n",
        "plt.plot(ep_rewards_table['ep'], ep_rewards_table['avg'])\n",
        "plt.title('Mountain Car SARSA')\n",
        "plt.ylabel('Average reward/Episode')\n",
        "plt.xlabel('Episodes')\n",
        "plt.show()"
      ],
      "execution_count": 57,
      "outputs": [
        {
          "output_type": "stream",
          "name": "stdout",
          "text": [
            "Episode:0 avg:-200.0\n",
            "Episode:500 avg:-200.0\n",
            "Episode:1000 avg:-199.282\n",
            "Episode:1500 avg:-190.65\n",
            "Episode:2000 avg:-180.518\n",
            "Episode:2500 avg:-129.342\n",
            "Episode:3000 avg:-119.412\n",
            "Episode:3500 avg:-119.296\n",
            "Episode:4000 avg:-119.194\n",
            "Episode:4500 avg:-119.212\n",
            "Episode:5000 avg:-119.218\n",
            "Episode:5500 avg:-119.206\n",
            "Episode:6000 avg:-119.64\n",
            "Episode:6500 avg:-119.146\n",
            "Episode:7000 avg:-119.18\n",
            "Episode:7500 avg:-119.528\n"
          ]
        },
        {
          "output_type": "display_data",
          "data": {
            "image/png": "[encoded data removed]",
            "text/plain": [
              "<Figure size 432x288 with 1 Axes>"
            ]
          },
          "metadata": {
            "needs_background": "light"
          }
        }
      ]
    },
    {
      "cell_type": "code",
      "metadata": {
        "colab": {
          "base_uri": "https://localhost:8080/",
          "height": 635
        },
        "id": "dBT0bOvlo0n3",
        "outputId": "f3f3981a-df16-4c77-8f48-6c997bb46870"
      },
      "source": [
        "#on-policy expected SARSA\n",
        "DISCRETE_BUCKETS = 20\n",
        "EPISODES = 10000\n",
        "GAMMA = 0.95\n",
        "EPISODE_DISPLAY = 500\n",
        "LEARNING_RATE = 0.1\n",
        "EPSILON = 0.5\n",
        "#EPSILON_DECREMENTER = EPSILON/(EPISODES//4)\n",
        "\n",
        "#Q-Table of size DISCRETE_BUCKETS*DISCRETE_BUCKETS*env.action_space.n\n",
        "Q_TABLE = np.random.randn(DISCRETE_BUCKETS,DISCRETE_BUCKETS,env.action_space.n)\n",
        "\n",
        "# For stats\n",
        "ep_rewards = []\n",
        "ep_rewards_table = {'ep': [], 'avg': []}\n",
        "\n",
        "for episode in range(EPISODES):\n",
        "  episode_reward = 0\n",
        "  done = False\n",
        "  curr_discrete_state = discretised_state(env.reset())\n",
        "  action = get_action(curr_discrete_state)\n",
        "\n",
        "  while not done:\t\t\n",
        "    new_state, reward, done, _ = env.step(action)\n",
        "    new_discrete_state = discretised_state(new_state)\n",
        "    \n",
        "    if not done:\n",
        "      current_q = Q_TABLE[curr_discrete_state + (action,)]\n",
        "      future_q = Q_TABLE[new_discrete_state]\n",
        "      #Here p is the actual eps-soft probabilities\n",
        "      p = np.full(len(future_q), fill_value = EPSILON/len(future_q))\n",
        "      print(f'p{p}')\n",
        "      p[np.argmax(future_q)] += 1.0 - EPSILON\n",
        "      print(f'p{p}')\n",
        "\n",
        "      new_q = current_q + LEARNING_RATE * (reward + GAMMA * (future_q @ p) - current_q)\n",
        "      Q_TABLE[curr_discrete_state + (action,)] = new_q\n",
        "\n",
        "    curr_discrete_state = new_discrete_state\n",
        "    action = new_action\n",
        "\n",
        "    episode_reward += reward\n",
        "\n",
        "  #EPSILON = max(0.0001, EPSILON - EPSILON_DECREMENTER)\n",
        "\n",
        "  ep_rewards.append(episode_reward)\n",
        "\n",
        "  if not episode % EPISODE_DISPLAY:\n",
        "    avg_reward = sum(ep_rewards[-EPISODE_DISPLAY:])/len(ep_rewards[-EPISODE_DISPLAY:])\n",
        "    ep_rewards_table['ep'].append(episode)\n",
        "    ep_rewards_table['avg'].append(avg_reward)\n",
        "    print(f\"Episode:{episode} avg:{avg_reward}\")\n",
        "\n",
        "env.close()\n",
        "\n",
        "\n",
        "plt.scatter(range(len(ep_rewards)), ep_rewards, s=0.1, alpha=0.5)\n",
        "plt.plot(ep_rewards_table['ep'], ep_rewards_table['avg'])\n",
        "plt.title('Mountain Car SARSA')\n",
        "plt.ylabel('Average reward/Episode')\n",
        "plt.xlabel('Episodes')\n",
        "plt.show()"
      ],
      "execution_count": 14,
      "outputs": [
        {
          "output_type": "stream",
          "name": "stdout",
          "text": [
            "Episode:0 avg:-200.0\n",
            "Episode:500 avg:-200.0\n",
            "Episode:1000 avg:-200.0\n",
            "Episode:1500 avg:-200.0\n",
            "Episode:2000 avg:-200.0\n",
            "Episode:2500 avg:-200.0\n",
            "Episode:3000 avg:-200.0\n",
            "Episode:3500 avg:-200.0\n",
            "Episode:4000 avg:-200.0\n",
            "Episode:4500 avg:-200.0\n",
            "Episode:5000 avg:-200.0\n",
            "Episode:5500 avg:-200.0\n",
            "Episode:6000 avg:-200.0\n",
            "Episode:6500 avg:-200.0\n",
            "Episode:7000 avg:-200.0\n",
            "Episode:7500 avg:-200.0\n",
            "Episode:8000 avg:-200.0\n",
            "Episode:8500 avg:-200.0\n",
            "Episode:9000 avg:-200.0\n",
            "Episode:9500 avg:-200.0\n"
          ]
        },
        {
          "output_type": "display_data",
          "data": {
            "image/png": "[encoded data removed]",
            "text/plain": [
              "<Figure size 432x288 with 1 Axes>"
            ]
          },
          "metadata": {
            "needs_background": "light"
          }
        }
      ]
    },
    {
      "cell_type": "code",
      "metadata": {
        "colab": {
          "base_uri": "https://localhost:8080/"
        },
        "id": "D3q_rcTlwQrN",
        "outputId": "8070bab5-41d9-4b8b-af72-83401d0136ca"
      },
      "source": [
        "env.action_space"
      ],
      "execution_count": 56,
      "outputs": [
        {
          "output_type": "execute_result",
          "data": {
            "text/plain": [
              "Discrete(3)"
            ]
          },
          "metadata": {},
          "execution_count": 56
        }
      ]
    },
    {
      "cell_type": "code",
      "metadata": {
        "colab": {
          "base_uri": "https://localhost:8080/"
        },
        "id": "DC_164bHv49h",
        "outputId": "a3e3ad92-40fd-4f19-c1e8-fdda8f9c356f"
      },
      "source": [
        "env.action_space.n"
      ],
      "execution_count": 54,
      "outputs": [
        {
          "output_type": "execute_result",
          "data": {
            "text/plain": [
              "3"
            ]
          },
          "metadata": {},
          "execution_count": 54
        }
      ]
    },
    {
      "cell_type": "code",
      "metadata": {
        "id": "-8ZsgntIqyOa"
      },
      "source": [
        "#off-policy expected SARSA with a greedy control policy\n",
        "DISCRETE_BUCKETS = 20\n",
        "EPISODES = 10000\n",
        "GAMMA = 0.95\n",
        "EPISODE_DISPLAY = 500\n",
        "LEARNING_RATE = 0.1\n",
        "EPSILON = 0.5\n",
        "EPSILON_DECREMENTER = EPSILON/(EPISODES//4)\n",
        "\n",
        "#Q-Table of size DISCRETE_BUCKETS*DISCRETE_BUCKETS*env.action_space.n\n",
        "Q_TABLE = np.random.randn(DISCRETE_BUCKETS,DISCRETE_BUCKETS,env.action_space.n)\n",
        "\n",
        "# For stats\n",
        "ep_rewards = []\n",
        "ep_rewards_table = {'ep': [], 'avg': []}\n",
        "\n",
        "for episode in range(EPISODES):\n",
        "\tepisode_reward = 0\n",
        "\tdone = False\n",
        "\n",
        "\tcurr_discrete_state = discretised_state(env.reset())\n",
        "\taction = get_action(curr_discrete_state)\n",
        "\n",
        "\twhile not done:\t\t\n",
        "\t\tnew_state, reward, done, _ = env.step(action)\n",
        "\t\tnew_discrete_state = discretised_state(new_state)\n",
        "\t\tnew_action = get_action(new_discrete_state)\n",
        "\n",
        "\t\tif not done:\n",
        "\t\t\tcurrent_q = Q_TABLE[curr_discrete_state + (action,)]\t\t\t\n",
        "\t\t\tfuture_q = Q_TABLE[new_discrete_state + (new_action,)]\n",
        "\t\t\tnew_q = current_q + LEARNING_RATE * (reward + GAMMA * future_q - current_q)\n",
        "\t\t\tQ_TABLE[curr_discrete_state + (action,)] = new_q\n",
        "\t\telif new_state[0] >= env.goal_position:\n",
        "\t\t\tQ_TABLE[curr_discrete_state + (action,)] = 0\n",
        "\n",
        "\t\tcurr_discrete_state = new_discrete_state\n",
        "\t\taction = new_action\n",
        "\n",
        "\t\tepisode_reward += reward\n",
        "\n",
        "\tEPSILON = max(0.0001, EPSILON - EPSILON_DECREMENTER)\n",
        "\n",
        "\tep_rewards.append(episode_reward)\n",
        "\n",
        "\tif not episode % EPISODE_DISPLAY:\n",
        "\t\tavg_reward = sum(ep_rewards[-EPISODE_DISPLAY:])/len(ep_rewards[-EPISODE_DISPLAY:])\n",
        "\t\tep_rewards_table['ep'].append(episode)\n",
        "\t\tep_rewards_table['avg'].append(avg_reward)\n",
        "\n",
        "env.close()\n",
        "\n",
        "\n",
        "plt.scatter(range(len(ep_rewards)), ep_rewards, s=0.1, alpha=0.5)\n",
        "plt.plot(ep_rewards_table['ep'], ep_rewards_table['avg'])\n",
        "plt.title('Mountain Car SARSA')\n",
        "plt.ylabel('Average reward/Episode')\n",
        "plt.xlabel('Episodes')\n",
        "plt.show()"
      ],
      "execution_count": null,
      "outputs": []
    }
  ]
}