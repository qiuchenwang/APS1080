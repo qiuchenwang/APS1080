{
 "cells": [
  {
   "cell_type": "markdown",
   "metadata": {
    "id": "btl-Bf-H0HBa"
   },
   "source": [
    "# A. Context: AI, Autonomy, Search, Data Science, Control\n",
    "\n",
    "\n"
   ]
  },
  {
   "cell_type": "markdown",
   "metadata": {
    "id": "pmmr5M5lrNsu"
   },
   "source": [
    ">1. What is an autonomous machine, and what does autonomy mean?\n",
    "\n",
    "An autonomous machine is a machine that operates on its own without control systems. Autonomy means that it can make its own decisions."
   ]
  },
  {
   "cell_type": "markdown",
   "metadata": {
    "id": "lwZ2tC_vmweC"
   },
   "source": [
    ">2a. Classical AI techniques employ trees of decision constructs (if statements, etc.) to achieve some form of \"intelligent\"-like behavior. An example of this is the famous Eliza AI-based \"psychotherapist\". What do you feel are the strengths and weaknesses of such an approach? State and explain three such strengths and three weaknesses.\n",
    "\n",
    "strengths:\n",
    "1. Easy to understand the rules\n",
    "2. Perform classification without much computation\n",
    "3. Require less effort for data pre-processing\n",
    "\n",
    "Weakness:\n",
    "1. Small changes in the data may cause big changes in the structure of the decision tree\n",
    "2. Need more time to train the model\n",
    "3. Can‘t predict continuous values"
   ]
  },
  {
   "cell_type": "markdown",
   "metadata": {
    "id": "93zou9Dg2xuz"
   },
   "source": [
    ">2b. Data Science includes signal processing, adaptive filters, supervised and unsupervised machine learning. These techniques solve the modeling problem from the perspective of the data. That is, they serve to classify signals (data), interpolate signals (data), or extract signal from noise. Comment on how these functions relate to artificial intelligence?\n",
    "\n",
    "Classification allows a machine to understand the category of the data, interpolate allows a machine to predict the values that fall within a range of data, extraction data from noise allows a machine to identify outliers."
   ]
  },
  {
   "cell_type": "markdown",
   "metadata": {
    "id": "jH9BB-t8rM5O"
   },
   "source": [
    ">2c. Control theory concerns the development of feedback laws (i.e., control laws) that strive to push a system (the \"plant\") to a desired state. It does this based on observation of essential characteristics of the plant (the state, or some possibly noisy or lossy observation of the state), and construction of an appropriate feedback signal. How does this tool compare with the prior two, relating to the development of an autonomous system? Explain the similarities and differences from a structural (high level) point of view.\n",
    "\n",
    "They both make the machine perform the desired action. The difference is that control theory needs to know the environment, but AI can deal with a stochastic environment."
   ]
  },
  {
   "cell_type": "markdown",
   "metadata": {
    "id": "oVprwhh_0YaY"
   },
   "source": [
    "# B. Practice"
   ]
  },
  {
   "cell_type": "markdown",
   "metadata": {
    "id": "htoeYwA00cw6"
   },
   "source": [
    "Consider the game of tic tac toe (TTT). Two individuals (i.e., an X-player, and an O-player) play on a 9-position board, alternately placing \"X\" or \"O\" markers on the board. A player wins when they have achieved three markers of their type, in a row (vertical, horizontal, diagonal).\n",
    "\n",
    "Code a TTT player in the following manner:\n",
    "\n",
    "1. Create a python class maintains the TTT board. It should have a reset method (to clear the TTT board), methods for setting the position of the board for each player, and a method to indicate whether the game has been won (returning who has won), or whether the game is at a draw.\n",
    "2. Test this python class, by playing a two-human game of TTT."
   ]
  },
  {
   "cell_type": "code",
   "execution_count": 163,
   "metadata": {
    "id": "q_W0nrNurFpI"
   },
   "outputs": [],
   "source": [
    "import numpy as np\n",
    "class TTT:\n",
    "  state = {0 : \" \", 1 : \"X\", -1 : \"O\"}\n",
    "\n",
    "  def __init__(self, board = None):\n",
    "    self.reset(board)\n",
    "\n",
    "  def reset(self, board = None):\n",
    "    if board is None:\n",
    "      self.board = np.full((3,3), fill_value = 0)\n",
    "    else:\n",
    "      self.board = board.copy()\n",
    "\n",
    "  def check_win(self):\n",
    "    if any(np.sum(self.board,0)) == 3 or any(np.sum(self.board,1)) == 3 or sum(np.diag(self.board)) == 3 or sum(np.diag(self.board[::-1])) == 3:\n",
    "      return 1\n",
    "    if any(np.sum(self.board,0)) == -3 or any(np.sum(self.board,1)) == -3 or sum(np.diag(self.board)) == -3 or sum(np.diag(self.board[::-1])) == -3:\n",
    "      return -1\n",
    "    if (self.board == 0).any():\n",
    "      return None\n",
    "    return 0\n",
    "\n",
    "  def display_board(self):\n",
    "    print(\"\\n\")\n",
    "    print(\"   0  1  2\")\n",
    "    board_str = [[TTT.state[i] for i in row] for row in self.board]\n",
    "    print(\"0 \" + board_str[0][0] + \" | \" + board_str[0][1] + \" | \" + board_str[0][2])\n",
    "    print(\"1 \" + board_str[1][0] + \" | \" + board_str[1][1] + \" | \" + board_str[1][2])\n",
    "    print(\"2 \" + board_str[2][0] + \" | \" + board_str[2][1] + \" | \" + board_str[2][2])\n",
    "    print(\"\\n\")\n",
    "  \n",
    "  def get_legal_moves(self):\n",
    "      if self.check_win() is not None:\n",
    "          return np.array(())\n",
    "      return np.array(np.where(self.board == 0)).T\n",
    "\n",
    "  def set_move(self, x, y, value):\n",
    "    self.board[x, y] = value\n",
    "\n",
    "  def handle_turn(self):\n",
    "    n = np.count_nonzero(self.board == 0)\n",
    "    # X starts the game\n",
    "    if n%2 == 1:\n",
    "      player = 1\n",
    "      print('X' + \"'s turn.\")\n",
    "    else:\n",
    "      player = -1\n",
    "      print('O' + \"'s turn.\")\n",
    "    x, y = input(\"Choose a position row and colume, use space to split row and colume: \").split()\n",
    "    while [int(x),int(y)] not in self.get_legal_moves():\n",
    "      x, y = input(\"Choose a position row and colume, use space to split row and colume: \").split()\n",
    "    self.board[int(x),int(y)] = player\n",
    "    self.display_board()\n",
    "\n",
    "  def handle_turn_computer_player(self, move):\n",
    "    n = np.count_nonzero(self.board == 0)\n",
    "    # X starts the game\n",
    "    if n%2 == 1:\n",
    "      current_player = 1\n",
    "      game.board[move[0], move[1]] = current_player\n",
    "    else:\n",
    "      current_player = -1\n",
    "      print(\"Your are O; It's your turn\")\n",
    "      self.display_board()\n",
    "      x, y = input(\"Choose a position row and colume, use space to split row and colume: \").split()\n",
    "      while [int(x),int(y)] not in self.get_legal_moves():\n",
    "        x, y = input(\"Choose a position row and colume, use space to split row and colume: \").split()\n",
    "      self.board[int(x),int(y)] = current_player\n",
    "      self.display_board()"
   ]
  },
  {
   "cell_type": "code",
   "execution_count": 165,
   "metadata": {
    "colab": {
     "base_uri": "https://localhost:8080/"
    },
    "id": "tsbQRyj3FY4q",
    "outputId": "e77e2523-1061-4c5a-cad3-63e200c57cc4"
   },
   "outputs": [
    {
     "name": "stdout",
     "output_type": "stream",
     "text": [
      "\n",
      "\n",
      "   0  1  2\n",
      "0   |   |  \n",
      "1   |   |  \n",
      "2   |   |  \n",
      "\n",
      "\n",
      "X's turn.\n",
      "Choose a position row and colume, use space to split row and colume: 1 1\n",
      "\n",
      "\n",
      "   0  1  2\n",
      "0   |   |  \n",
      "1   | X |  \n",
      "2   |   |  \n",
      "\n",
      "\n",
      "O's turn.\n",
      "Choose a position row and colume, use space to split row and colume: 0 0\n",
      "\n",
      "\n",
      "   0  1  2\n",
      "0 O |   |  \n",
      "1   | X |  \n",
      "2   |   |  \n",
      "\n",
      "\n",
      "X's turn.\n",
      "Choose a position row and colume, use space to split row and colume: 1 0\n",
      "\n",
      "\n",
      "   0  1  2\n",
      "0 O |   |  \n",
      "1 X | X |  \n",
      "2   |   |  \n",
      "\n",
      "\n",
      "O's turn.\n",
      "Choose a position row and colume, use space to split row and colume: 1 2\n",
      "\n",
      "\n",
      "   0  1  2\n",
      "0 O |   |  \n",
      "1 X | X | O\n",
      "2   |   |  \n",
      "\n",
      "\n",
      "X's turn.\n",
      "Choose a position row and colume, use space to split row and colume: 0 1\n",
      "\n",
      "\n",
      "   0  1  2\n",
      "0 O | X |  \n",
      "1 X | X | O\n",
      "2   |   |  \n",
      "\n",
      "\n",
      "O's turn.\n",
      "Choose a position row and colume, use space to split row and colume: 2 1\n",
      "\n",
      "\n",
      "   0  1  2\n",
      "0 O | X |  \n",
      "1 X | X | O\n",
      "2   | O |  \n",
      "\n",
      "\n",
      "X's turn.\n",
      "Choose a position row and colume, use space to split row and colume: 0 2\n",
      "\n",
      "\n",
      "   0  1  2\n",
      "0 O | X | X\n",
      "1 X | X | O\n",
      "2   | O |  \n",
      "\n",
      "\n",
      "O's turn.\n",
      "Choose a position row and colume, use space to split row and colume: 2 0\n",
      "\n",
      "\n",
      "   0  1  2\n",
      "0 O | X | X\n",
      "1 X | X | O\n",
      "2 O | O |  \n",
      "\n",
      "\n",
      "X's turn.\n",
      "Choose a position row and colume, use space to split row and colume: 2 2\n",
      "\n",
      "\n",
      "   0  1  2\n",
      "0 O | X | X\n",
      "1 X | X | O\n",
      "2 O | O | X\n",
      "\n",
      "\n",
      "Draw\n"
     ]
    }
   ],
   "source": [
    "game = TTT()\n",
    "game.display_board()\n",
    "while game.check_win() is None:\n",
    "  game.handle_turn()\n",
    "if game.check_win() == 1:\n",
    "  print(\"X won.\")\n",
    "elif game.check_win() == -1:\n",
    "  print(\"O won.\")\n",
    "elif game.check_win() == 0:\n",
    "  print(\"Draw\")"
   ]
  },
  {
   "cell_type": "markdown",
   "metadata": {
    "id": "vYTQ47hZOrUR"
   },
   "source": [
    ">3. Now you are to create a computer player. The goal of the computer player is to win if possible, or at worst, not lose. First think about the strategy that you need to codify, and then codify it.\n",
    ">4. Test your python class, by playing a human-vs-computer game of TTT."
   ]
  },
  {
   "cell_type": "code",
   "execution_count": 168,
   "metadata": {
    "id": "8Js5pWd8pfsy"
   },
   "outputs": [],
   "source": [
    "class TTT_Computer_player:\n",
    "  def __init__(self, game):\n",
    "    self.game = game\n",
    "\n",
    "  def next_move(self):\n",
    "    for move in game.get_legal_moves():\n",
    "      copy_board = TTT(game.board.copy())\n",
    "      copy_board.set_move(move[0], move[1], 1)\n",
    "      #check if computer can win\n",
    "      if copy_board.check_win() == 1:\n",
    "        return move\n",
    "    for move in game.get_legal_moves():\n",
    "      copy_board = TTT(game.board.copy())\n",
    "      copy_board.set_move(move[0], move[1], -1)\n",
    "      if copy_board.check_win() == -1:\n",
    "        return move\n",
    "    return game.get_legal_moves()[0]\n"
   ]
  },
  {
   "cell_type": "code",
   "execution_count": 172,
   "metadata": {
    "colab": {
     "base_uri": "https://localhost:8080/"
    },
    "id": "_VXVGoVMENXM",
    "outputId": "aff55121-1271-4e41-cd78-c423aa938e11"
   },
   "outputs": [
    {
     "name": "stdout",
     "output_type": "stream",
     "text": [
      "Your are O; It's your turn\n",
      "\n",
      "\n",
      "   0  1  2\n",
      "0 X |   |  \n",
      "1   |   |  \n",
      "2   |   |  \n",
      "\n",
      "\n",
      "Choose a position row and colume, use space to split row and colume: 1 0\n",
      "\n",
      "\n",
      "   0  1  2\n",
      "0 X |   |  \n",
      "1 O |   |  \n",
      "2   |   |  \n",
      "\n",
      "\n",
      "Your are O; It's your turn\n",
      "\n",
      "\n",
      "   0  1  2\n",
      "0 X | X |  \n",
      "1 O |   |  \n",
      "2   |   |  \n",
      "\n",
      "\n",
      "Choose a position row and colume, use space to split row and colume: 0 2\n",
      "\n",
      "\n",
      "   0  1  2\n",
      "0 X | X | O\n",
      "1 O |   |  \n",
      "2   |   |  \n",
      "\n",
      "\n",
      "Your are O; It's your turn\n",
      "\n",
      "\n",
      "   0  1  2\n",
      "0 X | X | O\n",
      "1 O | X |  \n",
      "2   |   |  \n",
      "\n",
      "\n",
      "Choose a position row and colume, use space to split row and colume: 2 1\n",
      "\n",
      "\n",
      "   0  1  2\n",
      "0 X | X | O\n",
      "1 O | X |  \n",
      "2   | O |  \n",
      "\n",
      "\n",
      "\n",
      "\n",
      "   0  1  2\n",
      "0 X | X | O\n",
      "1 O | X |  \n",
      "2   | O | X\n",
      "\n",
      "\n",
      "X won.\n"
     ]
    }
   ],
   "source": [
    "game = TTT()\n",
    "player1 = TTT_Computer_player(game)\n",
    "while True:\n",
    "  game.handle_turn_computer_player(player1.next_move())\n",
    "  if game.check_win() is not None:\n",
    "    break\n",
    "game.display_board()\n",
    "if game.check_win() == 1:\n",
    "  print(\"X won.\")\n",
    "elif game.check_win() == -1:\n",
    "  print(\"O won.\")\n",
    "elif game.check_win() == 0:\n",
    "  print(\"Draw\")"
   ]
  }
 ],
 "metadata": {
  "colab": {
   "collapsed_sections": [],
   "name": "Exercise0_qiuchen.wang_1005454250.ipynb",
   "provenance": []
  },
  "kernelspec": {
   "display_name": "Python 3",
   "language": "python",
   "name": "python3"
  },
  "language_info": {
   "codemirror_mode": {
    "name": "ipython",
    "version": 3
   },
   "file_extension": ".py",
   "mimetype": "text/x-python",
   "name": "python",
   "nbconvert_exporter": "python",
   "pygments_lexer": "ipython3",
   "version": "3.7.6"
  }
 },
 "nbformat": 4,
 "nbformat_minor": 1
}
