{
  "nbformat": 4,
  "nbformat_minor": 0,
  "metadata": {
    "colab": {
      "name": "Assignment4.ipynb",
      "provenance": []
    },
    "kernelspec": {
      "name": "python3",
      "display_name": "Python 3"
    },
    "language_info": {
      "name": "python"
    }
  },
  "cells": [
    {
      "cell_type": "markdown",
      "metadata": {
        "id": "qCA8XXzyKON4"
      },
      "source": [
        "#Assignment IV: Function Approx and SARSA control\n",
        ">You will use function approximation to devise controllers for the mountain car and/or cart pole problems. You may chose which of the two you wish to attempt, and will use the fapprox techniques you explored in Exercise IV for this assignment.\n",
        ">\n",
        ">The goal is to employ the SARSA(n) (n>=0) fapprox techniques of C10 to control the environment of choice.\n",
        ">\n",
        ">There are a variety of solutions that have been posted on the internet; most of these use offline training, in contrast to what the textbook shows. The textbook is showing the more appropriate solution technique and you must use that. You may use the internet-based solutions as a guide on how to set your neural network complexity (# layers, # neurons), however, you must use the 10.1 or 10.2 algorithms.\n",
        ">\n",
        ">Exercise IV should have provided you a template for how to do this: you will use the stochastic gradient descent algorithm, where the reference (\"training input\") will come from the 10.1 or 10.2 algorithms.\n",
        ">\n",
        ">Submit you code as solver.py and results.pdf that summarizes the results of your implementation (NN structure, algorithm selected, training characteristics, and performance.\n",
        ">\n",
        ">Ref: Files/stochastic_gradient_descent_example.py"
      ]
    },
    {
      "cell_type": "code",
      "metadata": {
        "id": "_8CLhEFAKMFH"
      },
      "source": [
        ""
      ],
      "execution_count": null,
      "outputs": []
    },
    {
      "cell_type": "code",
      "metadata": {
        "id": "61DSmpKeKN96"
      },
      "source": [
        ""
      ],
      "execution_count": null,
      "outputs": []
    }
  ]
}