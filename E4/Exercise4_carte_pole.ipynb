{
  "nbformat": 4,
  "nbformat_minor": 0,
  "metadata": {
    "colab": {
      "name": "Exercise4.ipynb",
      "provenance": []
    },
    "kernelspec": {
      "name": "python3",
      "display_name": "Python 3"
    },
    "language_info": {
      "name": "python"
    }
  },
  "cells": [
    {
      "cell_type": "markdown",
      "metadata": {
        "id": "r99_JvEI-kvM"
      },
      "source": [
        "# Exercise IV: Function Approximation\n",
        ">You will use function approximation to device controllers for the mountain car and/or cart pole problems in Assignment IV.\n",
        "\n",
        ">Rather than code a function approximation class (straightforward but outside of the scope of our course), you'll use a library, TensorFlow, for this.\n",
        "\n",
        ">There are two front ends for TensorFlow that make it easier to construct, debug, etc., neural networks (general nonlinear function approximation structures): Keras (keras.io) and TfLearn (tflearn.org).\n",
        "\n",
        ">Consult the documentation for these two (either, your choice) and learn how to:\n",
        "\n",
        ">* Construct a neural network with several layers\n",
        ">* Obtain the gradient of the neural network with respect to its parameters\n",
        ">* Train the neural network by stochastic gradient descent using a loop that you construct and in which you update the weights as per the gradient and the error (you will use this in A-IV)\n",
        "\n",
        ">Submit, via pdf, the results of your investigation. Graded for completion; this is an opportunity for you to ask questions in case you are stuck.\n",
        "\n",
        ">Consult Files/stochastic_gradient_descent_example.py for one example to help you get started.\n",
        "\n"
      ]
    },
    {
      "cell_type": "code",
      "metadata": {
        "id": "6EO3f4hf-fjs"
      },
      "source": [
        "import gym\n",
        "import numpy as np\n",
        "from collections import deque\n",
        "import tensorflow.compat.v1 as tf\n",
        "tf.disable_v2_behavior()\n",
        "import random\n",
        "import matplotlib.pyplot as plt\n",
        "import pandas as pd"
      ],
      "execution_count": 18,
      "outputs": []
    },
    {
      "cell_type": "markdown",
      "metadata": {
        "id": "YKCFUVeyG3iX"
      },
      "source": [
        "##Carte Pole"
      ]
    },
    {
      "cell_type": "code",
      "metadata": {
        "colab": {
          "base_uri": "https://localhost:8080/"
        },
        "id": "nCLHIljHB3dh",
        "outputId": "f10682c3-d4ad-459f-afb4-0f1d87922422"
      },
      "source": [
        "#Set up the environment\n",
        "env = gym.make(\"CartPole-v0\")\n",
        "env.reset()\n",
        "\n",
        "\n",
        "for i in range(50000):\n",
        "  action = env.action_space.sample()\n",
        "  print(\"step i\",i,\"action=\",action)\n",
        "  obs, reward, done, info = env.step(action)\n",
        "  print(\"obs=\",obs,\"reward=\",reward,\"done=\",done)\n",
        "\n",
        "  if done:\n",
        "    break\n",
        "    \n",
        "env.close()\n",
        "print(\"Iterations that were run:\",i)"
      ],
      "execution_count": 2,
      "outputs": [
        {
          "output_type": "stream",
          "name": "stdout",
          "text": [
            "step i 0 action= 1\n",
            "obs= [ 0.03659704  0.14841942 -0.0094883  -0.27563865] reward= 1.0 done= False\n",
            "step i 1 action= 0\n",
            "obs= [ 0.03956543 -0.04656588 -0.01500108  0.01403662] reward= 1.0 done= False\n",
            "step i 2 action= 0\n",
            "obs= [ 0.03863411 -0.24146952 -0.01472034  0.30194903] reward= 1.0 done= False\n",
            "step i 3 action= 0\n",
            "obs= [ 0.03380472 -0.43637861 -0.00868136  0.58995337] reward= 1.0 done= False\n",
            "step i 4 action= 1\n",
            "obs= [ 0.02507715 -0.24113619  0.0031177   0.29454848] reward= 1.0 done= False\n",
            "step i 5 action= 0\n",
            "obs= [ 0.02025443 -0.43630245  0.00900867  0.58821305] reward= 1.0 done= False\n",
            "step i 6 action= 1\n",
            "obs= [ 0.01152838 -0.24130781  0.02077293  0.29838147] reward= 1.0 done= False\n",
            "step i 7 action= 0\n",
            "obs= [ 0.00670222 -0.43671961  0.02674056  0.59754274] reward= 1.0 done= False\n",
            "step i 8 action= 1\n",
            "obs= [-0.00203217 -0.24198185  0.03869142  0.31340132] reward= 1.0 done= False\n",
            "step i 9 action= 1\n",
            "obs= [-0.00687181 -0.04743183  0.04495945  0.03316713] reward= 1.0 done= False\n",
            "step i 10 action= 0\n",
            "obs= [-0.00782045 -0.24316872  0.04562279  0.3396894 ] reward= 1.0 done= False\n",
            "step i 11 action= 0\n",
            "obs= [-0.01268382 -0.43890914  0.05241658  0.64640296] reward= 1.0 done= False\n",
            "step i 12 action= 0\n",
            "obs= [-0.021462   -0.63472075  0.06534464  0.9551204 ] reward= 1.0 done= False\n",
            "step i 13 action= 1\n",
            "obs= [-0.03415642 -0.44053574  0.08444704  0.68366219] reward= 1.0 done= False\n",
            "step i 14 action= 1\n",
            "obs= [-0.04296713 -0.24668159  0.09812029  0.41871509] reward= 1.0 done= False\n",
            "step i 15 action= 1\n",
            "obs= [-0.04790076 -0.053077    0.10649459  0.15850615] reward= 1.0 done= False\n",
            "step i 16 action= 0\n",
            "obs= [-0.0489623  -0.24954969  0.10966471  0.48279587] reward= 1.0 done= False\n",
            "step i 17 action= 0\n",
            "obs= [-0.0539533  -0.44603472  0.11932063  0.80792977] reward= 1.0 done= False\n",
            "step i 18 action= 1\n",
            "obs= [-0.06287399 -0.25273242  0.13547922  0.55503505] reward= 1.0 done= False\n",
            "step i 19 action= 0\n",
            "obs= [-0.06792864 -0.44947045  0.14657993  0.8871471 ] reward= 1.0 done= False\n",
            "step i 20 action= 1\n",
            "obs= [-0.07691805 -0.25660957  0.16432287  0.64389838] reward= 1.0 done= False\n",
            "step i 21 action= 0\n",
            "obs= [-0.08205024 -0.45359409  0.17720084  0.98348869] reward= 1.0 done= False\n",
            "step i 22 action= 0\n",
            "obs= [-0.09112212 -0.65059026  0.19687061  1.32618062] reward= 1.0 done= False\n",
            "step i 23 action= 1\n",
            "obs= [-0.10413393 -0.45842168  0.22339422  1.10100259] reward= 1.0 done= True\n",
            "Iterations that were run: 23\n"
          ]
        }
      ]
    },
    {
      "cell_type": "markdown",
      "metadata": {
        "id": "uT3-ICpfG_j0"
      },
      "source": [
        "##Training: Nerual Network"
      ]
    },
    {
      "cell_type": "code",
      "metadata": {
        "id": "_yZX8bTljxY4"
      },
      "source": [
        "class QNetwork():\n",
        "    def __init__(self, state_dim, action_size):\n",
        "        self.state_in = tf.placeholder(tf.float32, shape=[None, *state_dim])\n",
        "        self.action_in = tf.placeholder(tf.int32, shape=[None])\n",
        "        self.q_target_in = tf.placeholder(tf.float32, shape=[None])\n",
        "        action_one_hot = tf.one_hot(self.action_in, depth=action_size)\n",
        "        \n",
        "        self.hidden1 = tf.layers.dense(self.state_in, 100, activation=tf.nn.relu)\n",
        "        self.q_state = tf.layers.dense(self.hidden1, action_size, activation=None)\n",
        "        self.q_state_action = tf.reduce_sum(tf.multiply(self.q_state, action_one_hot), axis=1)\n",
        "        \n",
        "        self.loss = tf.reduce_mean(tf.square(self.q_state_action - self.q_target_in))\n",
        "        self.optimizer = tf.train.AdamOptimizer(learning_rate=0.001).minimize(self.loss)\n",
        "        \n",
        "    def update_model(self, session, state, action, q_target):\n",
        "        feed = {self.state_in: state, self.action_in: action, self.q_target_in: q_target}\n",
        "        session.run(self.optimizer, feed_dict=feed)\n",
        "        \n",
        "    def get_q_state(self, session, state):\n",
        "        q_state = session.run(self.q_state, feed_dict={self.state_in: state})\n",
        "        return q_state"
      ],
      "execution_count": 17,
      "outputs": []
    },
    {
      "cell_type": "code",
      "metadata": {
        "id": "FpHIoMjbP08b"
      },
      "source": [
        "class ReplayBuffer():\n",
        "    def __init__(self, maxlen):\n",
        "        self.buffer = deque(maxlen=maxlen)\n",
        "        \n",
        "    def add(self, experience):\n",
        "        self.buffer.append(experience)\n",
        "        \n",
        "    def sample(self, batch_size):\n",
        "        sample_size = min(len(self.buffer), batch_size)\n",
        "        samples = random.choices(self.buffer, k=sample_size)\n",
        "        return map(list, zip(*samples))"
      ],
      "execution_count": 20,
      "outputs": []
    },
    {
      "cell_type": "code",
      "metadata": {
        "id": "aB4Z9kVZ_39T"
      },
      "source": [
        "def get_action(env, state, epsilon, q_network, sess):\n",
        "    #e-greedy\n",
        "    if np.random.random() < epsilon:\n",
        "        action = np.random.randint(env.action_space.n)\n",
        "    else:\n",
        "        q_state = q_network.get_q_state(sess, [state])\n",
        "        action = np.argmax(q_state)\n",
        "    return action"
      ],
      "execution_count": 21,
      "outputs": []
    },
    {
      "cell_type": "code",
      "metadata": {
        "colab": {
          "base_uri": "https://localhost:8080/",
          "height": 383
        },
        "id": "eGvklNETAuBm",
        "outputId": "057629ca-6585-489f-83ae-99d7386f8978"
      },
      "source": [
        "state_dim = env.observation_space.shape\n",
        "action_size = env.action_space.n\n",
        "q_network = QNetwork(state_dim, action_size)\n",
        "replay_buffer = ReplayBuffer(maxlen=10000)\n",
        "gamma = 0.97\n",
        "eps = 1.0\n",
        "sess = tf.Session()\n",
        "sess.run(tf.global_variables_initializer())\n",
        "\n",
        "num_episodes = 400\n",
        "steps = np.zeros(num_episodes)\n",
        "for episode in range(num_episodes):\n",
        "    state = env.reset()\n",
        "    done = False\n",
        "    for i in range(5000):\n",
        "        action = get_action(env, state, eps, q_network, sess)\n",
        "        next_state, reward, done, info = env.step(action)\n",
        "        replay_buffer.add((state, action, next_state, reward, done))\n",
        "        states, actions, next_states, rewards, dones = replay_buffer.sample(50)\n",
        "        q_next_states = q_network.get_q_state(sess, next_states)\n",
        "        q_next_states[dones] = np.zeros([action_size])\n",
        "        q_targets = rewards + gamma * np.max(q_next_states, axis=1)\n",
        "        q_network.update_model(sess, states, actions, q_targets)\n",
        "        state = next_state\n",
        "        if done: \n",
        "            eps = max(0.1, 0.99*eps)\n",
        "            steps[episode] = i\n",
        "            break\n",
        "\n",
        "plt.scatter(range(len(steps)),steps, s=0.1, alpha=0.5)\n",
        "plt.plot(range(len(steps)), pd.Series(steps).rolling(100).median())\n",
        "plt.xlabel(\"Episode\")\n",
        "plt.ylabel(\"Steps\")\n",
        "plt.title(\"Training performance\")\n",
        "plt.show()"
      ],
      "execution_count": 13,
      "outputs": [
        {
          "output_type": "stream",
          "name": "stderr",
          "text": [
            "/usr/local/lib/python3.7/dist-packages/keras/legacy_tf_layers/core.py:236: UserWarning: `tf.layers.dense` is deprecated and will be removed in a future version. Please use `tf.keras.layers.Dense` instead.\n",
            "  warnings.warn('`tf.layers.dense` is deprecated and '\n",
            "/usr/local/lib/python3.7/dist-packages/keras/engine/base_layer_v1.py:1676: UserWarning: `layer.apply` is deprecated and will be removed in a future version. Please use `layer.__call__` method instead.\n",
            "  warnings.warn('`layer.apply` is deprecated and '\n"
          ]
        },
        {
          "output_type": "display_data",
          "data": {
            "image/png": "[encoded data removed]",
            "text/plain": [
              "<Figure size 432x288 with 1 Axes>"
            ]
          },
          "metadata": {
            "needs_background": "light"
          }
        }
      ]
    },
    {
      "cell_type": "code",
      "metadata": {
        "colab": {
          "base_uri": "https://localhost:8080/"
        },
        "id": "IzvRQ0hm_L5l",
        "outputId": "43b8ce7c-9aa9-42af-ca4f-ba25038d49dd"
      },
      "source": [
        "#test\n",
        "print(\"testing:\")\n",
        "for episode in range(10):\n",
        "  state = env.reset()\n",
        "\n",
        "  for i in range(5000):\n",
        "    q_state = q_network.get_q_state(sess, [state])\n",
        "    action = np.argmax(q_state)\n",
        "    state, reward, done, info = env.step(action)\n",
        "    if done:\n",
        "      print(f\"Episode {episode} lasted {i} steps\")\n",
        "      break\n",
        "    \n",
        "  env.close()"
      ],
      "execution_count": 16,
      "outputs": [
        {
          "output_type": "stream",
          "name": "stdout",
          "text": [
            "testing:\n",
            "Episode 0 lasted 199 steps\n",
            "Episode 1 lasted 199 steps\n",
            "Episode 2 lasted 188 steps\n",
            "Episode 3 lasted 199 steps\n",
            "Episode 4 lasted 199 steps\n",
            "Episode 5 lasted 192 steps\n",
            "Episode 6 lasted 199 steps\n",
            "Episode 7 lasted 199 steps\n",
            "Episode 8 lasted 193 steps\n",
            "Episode 9 lasted 199 steps\n"
          ]
        }
      ]
    }
  ]
}